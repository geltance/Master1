{
 "cells": [
  {
   "cell_type": "markdown",
   "id": "39a0b1a3-55cf-4732-8511-6dca1946fbff",
   "metadata": {},
   "source": [
    "# Введение"
   ]
  },
  {
   "cell_type": "markdown",
   "id": "6a14a0d0-4ab2-47b1-8028-af8391d61eb5",
   "metadata": {},
   "source": [
    "## Цель проекта\n",
    "\n",
    "разработать модель машинного обучения для предсказания судьбы стартапов"
   ]
  },
  {
   "cell_type": "markdown",
   "id": "6c40bcbf-d08a-40c3-aaee-2139f53bef6e",
   "metadata": {},
   "source": [
    "## Загрузка библиотек"
   ]
  },
  {
   "cell_type": "code",
   "execution_count": 4,
   "id": "44e63db9-b673-4e49-a890-789e82383ccf",
   "metadata": {},
   "outputs": [],
   "source": [
    "import pandas as pd\n",
    "import numpy as np\n",
    "import matplotlib.pyplot as plt\n",
    "import seaborn as sns\n",
    "from sklearn.feature_extraction.text import TfidfVectorizer\n",
    "from sklearn.cluster import KMeans\n",
    "from gensim.models import Word2Vec\n",
    "from sklearn.decomposition import PCA\n",
    "from sklearn.pipeline import Pipeline\n",
    "from sklearn.preprocessing import OneHotEncoder, OrdinalEncoder, StandardScaler, MinMaxScaler, PolynomialFeatures #, RobustScaler\n",
    "from sklearn.compose import ColumnTransformer\n",
    "from sklearn.impute import SimpleImputer\n",
    "from sklearn.metrics import roc_auc_score\n",
    "from sklearn.model_selection import RandomizedSearchCV\n",
    "from sklearn.linear_model import LogisticRegression\n",
    "from sklearn.tree import DecisionTreeClassifier\n",
    "from sklearn.metrics import make_scorer, f1_score, accuracy_score\n",
    "from sklearn.neighbors import KNeighborsClassifier\n",
    "from sklearn.svm import SVC\n",
    "from sklearn.impute import SimpleImputer\n",
    "from sklearn.model_selection import train_test_split\n",
    "from sklearn.tree import DecisionTreeClassifier\n",
    "from sklearn.linear_model import LogisticRegression\n",
    "from sklearn.ensemble import RandomForestClassifier\n",
    "from sklearn.ensemble import GradientBoostingClassifier, ExtraTreesClassifier\n",
    "from fuzzywuzzy import fuzz, process\n",
    "import pycountry_convert as pc\n",
    "\n",
    "\n",
    "RANDOM_STATE = 42"
   ]
  },
  {
   "cell_type": "code",
   "execution_count": 5,
   "id": "076222d9-9ba6-4d07-b2fb-1b986e4b3e0b",
   "metadata": {},
   "outputs": [
    {
     "name": "stdout",
     "output_type": "stream",
     "text": [
      "Requirement already satisfied: phik in c:\\users\\levle\\anaconda3\\lib\\site-packages (0.12.4)\n",
      "Requirement already satisfied: numpy>=1.18.0 in c:\\users\\levle\\anaconda3\\lib\\site-packages (from phik) (1.24.3)\n",
      "Requirement already satisfied: scipy>=1.5.2 in c:\\users\\levle\\anaconda3\\lib\\site-packages (from phik) (1.11.1)\n",
      "Requirement already satisfied: pandas>=0.25.1 in c:\\users\\levle\\anaconda3\\lib\\site-packages (from phik) (2.0.3)\n",
      "Requirement already satisfied: matplotlib>=2.2.3 in c:\\users\\levle\\anaconda3\\lib\\site-packages (from phik) (3.7.2)\n",
      "Requirement already satisfied: joblib>=0.14.1 in c:\\users\\levle\\anaconda3\\lib\\site-packages (from phik) (1.2.0)\n",
      "Requirement already satisfied: contourpy>=1.0.1 in c:\\users\\levle\\anaconda3\\lib\\site-packages (from matplotlib>=2.2.3->phik) (1.0.5)\n",
      "Requirement already satisfied: cycler>=0.10 in c:\\users\\levle\\anaconda3\\lib\\site-packages (from matplotlib>=2.2.3->phik) (0.11.0)\n",
      "Requirement already satisfied: fonttools>=4.22.0 in c:\\users\\levle\\anaconda3\\lib\\site-packages (from matplotlib>=2.2.3->phik) (4.25.0)\n",
      "Requirement already satisfied: kiwisolver>=1.0.1 in c:\\users\\levle\\anaconda3\\lib\\site-packages (from matplotlib>=2.2.3->phik) (1.4.4)\n",
      "Requirement already satisfied: packaging>=20.0 in c:\\users\\levle\\anaconda3\\lib\\site-packages (from matplotlib>=2.2.3->phik) (23.1)\n",
      "Requirement already satisfied: pillow>=6.2.0 in c:\\users\\levle\\anaconda3\\lib\\site-packages (from matplotlib>=2.2.3->phik) (10.0.1)\n",
      "Requirement already satisfied: pyparsing<3.1,>=2.3.1 in c:\\users\\levle\\anaconda3\\lib\\site-packages (from matplotlib>=2.2.3->phik) (3.0.9)\n",
      "Requirement already satisfied: python-dateutil>=2.7 in c:\\users\\levle\\anaconda3\\lib\\site-packages (from matplotlib>=2.2.3->phik) (2.8.2)\n",
      "Requirement already satisfied: pytz>=2020.1 in c:\\users\\levle\\anaconda3\\lib\\site-packages (from pandas>=0.25.1->phik) (2023.3.post1)\n",
      "Requirement already satisfied: tzdata>=2022.1 in c:\\users\\levle\\anaconda3\\lib\\site-packages (from pandas>=0.25.1->phik) (2023.3)\n",
      "Requirement already satisfied: six>=1.5 in c:\\users\\levle\\anaconda3\\lib\\site-packages (from python-dateutil>=2.7->matplotlib>=2.2.3->phik) (1.16.0)\n"
     ]
    }
   ],
   "source": [
    "!pip install phik\n",
    "\n",
    "import phik"
   ]
  },
  {
   "cell_type": "code",
   "execution_count": 6,
   "id": "369f4610-da03-4250-a87a-7fae55d52649",
   "metadata": {},
   "outputs": [
    {
     "name": "stdout",
     "output_type": "stream",
     "text": [
      "Requirement already satisfied: shap in c:\\users\\levle\\anaconda3\\lib\\site-packages (0.46.0)\n",
      "Requirement already satisfied: numpy in c:\\users\\levle\\anaconda3\\lib\\site-packages (from shap) (1.24.3)\n",
      "Requirement already satisfied: scipy in c:\\users\\levle\\anaconda3\\lib\\site-packages (from shap) (1.11.1)\n",
      "Requirement already satisfied: scikit-learn in c:\\users\\levle\\anaconda3\\lib\\site-packages (from shap) (1.3.0)\n",
      "Requirement already satisfied: pandas in c:\\users\\levle\\anaconda3\\lib\\site-packages (from shap) (2.0.3)\n",
      "Requirement already satisfied: tqdm>=4.27.0 in c:\\users\\levle\\anaconda3\\lib\\site-packages (from shap) (4.65.0)\n",
      "Requirement already satisfied: packaging>20.9 in c:\\users\\levle\\anaconda3\\lib\\site-packages (from shap) (23.1)\n",
      "Requirement already satisfied: slicer==0.0.8 in c:\\users\\levle\\anaconda3\\lib\\site-packages (from shap) (0.0.8)\n",
      "Requirement already satisfied: numba in c:\\users\\levle\\anaconda3\\lib\\site-packages (from shap) (0.57.1)\n",
      "Requirement already satisfied: cloudpickle in c:\\users\\levle\\anaconda3\\lib\\site-packages (from shap) (2.2.1)\n",
      "Requirement already satisfied: colorama in c:\\users\\levle\\anaconda3\\lib\\site-packages (from tqdm>=4.27.0->shap) (0.4.6)\n",
      "Requirement already satisfied: llvmlite<0.41,>=0.40.0dev0 in c:\\users\\levle\\anaconda3\\lib\\site-packages (from numba->shap) (0.40.0)\n",
      "Requirement already satisfied: python-dateutil>=2.8.2 in c:\\users\\levle\\anaconda3\\lib\\site-packages (from pandas->shap) (2.8.2)\n",
      "Requirement already satisfied: pytz>=2020.1 in c:\\users\\levle\\anaconda3\\lib\\site-packages (from pandas->shap) (2023.3.post1)\n",
      "Requirement already satisfied: tzdata>=2022.1 in c:\\users\\levle\\anaconda3\\lib\\site-packages (from pandas->shap) (2023.3)\n",
      "Requirement already satisfied: joblib>=1.1.1 in c:\\users\\levle\\anaconda3\\lib\\site-packages (from scikit-learn->shap) (1.2.0)\n",
      "Requirement already satisfied: threadpoolctl>=2.0.0 in c:\\users\\levle\\anaconda3\\lib\\site-packages (from scikit-learn->shap) (2.2.0)\n",
      "Requirement already satisfied: six>=1.5 in c:\\users\\levle\\anaconda3\\lib\\site-packages (from python-dateutil>=2.8.2->pandas->shap) (1.16.0)\n"
     ]
    }
   ],
   "source": [
    "!pip install shap\n",
    "import shap\n"
   ]
  },
  {
   "cell_type": "code",
   "execution_count": 7,
   "id": "1ee61501-cc3b-4fd4-856a-37ebb630d1c5",
   "metadata": {},
   "outputs": [
    {
     "name": "stdout",
     "output_type": "stream",
     "text": [
      "Requirement already satisfied: lightgbm in c:\\users\\levle\\anaconda3\\lib\\site-packages (4.5.0)\n",
      "Requirement already satisfied: numpy>=1.17.0 in c:\\users\\levle\\anaconda3\\lib\\site-packages (from lightgbm) (1.24.3)\n",
      "Requirement already satisfied: scipy in c:\\users\\levle\\anaconda3\\lib\\site-packages (from lightgbm) (1.11.1)\n"
     ]
    }
   ],
   "source": [
    "!pip install lightgbm\n",
    "from lightgbm import LGBMClassifier"
   ]
  },
  {
   "cell_type": "code",
   "execution_count": 8,
   "id": "4e0174c6-3c65-4832-82c0-74fbfcecc40b",
   "metadata": {},
   "outputs": [
    {
     "name": "stdout",
     "output_type": "stream",
     "text": [
      "Requirement already satisfied: catboost in c:\\users\\levle\\anaconda3\\lib\\site-packages (1.2.7)\n",
      "Requirement already satisfied: graphviz in c:\\users\\levle\\anaconda3\\lib\\site-packages (from catboost) (0.20.3)\n",
      "Requirement already satisfied: matplotlib in c:\\users\\levle\\anaconda3\\lib\\site-packages (from catboost) (3.7.2)\n",
      "Requirement already satisfied: numpy<2.0,>=1.16.0 in c:\\users\\levle\\anaconda3\\lib\\site-packages (from catboost) (1.24.3)\n",
      "Requirement already satisfied: pandas>=0.24 in c:\\users\\levle\\anaconda3\\lib\\site-packages (from catboost) (2.0.3)\n",
      "Requirement already satisfied: scipy in c:\\users\\levle\\anaconda3\\lib\\site-packages (from catboost) (1.11.1)\n",
      "Requirement already satisfied: plotly in c:\\users\\levle\\anaconda3\\lib\\site-packages (from catboost) (5.9.0)\n",
      "Requirement already satisfied: six in c:\\users\\levle\\anaconda3\\lib\\site-packages (from catboost) (1.16.0)\n",
      "Requirement already satisfied: python-dateutil>=2.8.2 in c:\\users\\levle\\anaconda3\\lib\\site-packages (from pandas>=0.24->catboost) (2.8.2)\n",
      "Requirement already satisfied: pytz>=2020.1 in c:\\users\\levle\\anaconda3\\lib\\site-packages (from pandas>=0.24->catboost) (2023.3.post1)\n",
      "Requirement already satisfied: tzdata>=2022.1 in c:\\users\\levle\\anaconda3\\lib\\site-packages (from pandas>=0.24->catboost) (2023.3)\n",
      "Requirement already satisfied: contourpy>=1.0.1 in c:\\users\\levle\\anaconda3\\lib\\site-packages (from matplotlib->catboost) (1.0.5)\n",
      "Requirement already satisfied: cycler>=0.10 in c:\\users\\levle\\anaconda3\\lib\\site-packages (from matplotlib->catboost) (0.11.0)\n",
      "Requirement already satisfied: fonttools>=4.22.0 in c:\\users\\levle\\anaconda3\\lib\\site-packages (from matplotlib->catboost) (4.25.0)\n",
      "Requirement already satisfied: kiwisolver>=1.0.1 in c:\\users\\levle\\anaconda3\\lib\\site-packages (from matplotlib->catboost) (1.4.4)\n",
      "Requirement already satisfied: packaging>=20.0 in c:\\users\\levle\\anaconda3\\lib\\site-packages (from matplotlib->catboost) (23.1)\n",
      "Requirement already satisfied: pillow>=6.2.0 in c:\\users\\levle\\anaconda3\\lib\\site-packages (from matplotlib->catboost) (10.0.1)\n",
      "Requirement already satisfied: pyparsing<3.1,>=2.3.1 in c:\\users\\levle\\anaconda3\\lib\\site-packages (from matplotlib->catboost) (3.0.9)\n",
      "Requirement already satisfied: tenacity>=6.2.0 in c:\\users\\levle\\anaconda3\\lib\\site-packages (from plotly->catboost) (8.2.2)\n"
     ]
    }
   ],
   "source": [
    "!pip install catboost\n",
    "from catboost import CatBoostClassifier\n"
   ]
  },
  {
   "cell_type": "code",
   "execution_count": null,
   "id": "95756301-d95f-4d06-8425-d4f19c9fe05e",
   "metadata": {},
   "outputs": [],
   "source": []
  },
  {
   "cell_type": "markdown",
   "id": "655bb2ed-bcf6-4118-90dd-a32aa2a66724",
   "metadata": {},
   "source": [
    "# 1. Загрузка и ознакомление с данными"
   ]
  },
  {
   "cell_type": "code",
   "execution_count": 10,
   "id": "d34773c6-d218-4250-8946-61ddf10d55a5",
   "metadata": {},
   "outputs": [],
   "source": [
    "train_data = pd.read_csv('C:/Users/levle/OneDrive/Documents/Yandex_Practicum_main/Master1/M1_DS - Startups (STD)/kaggle_startups_train_28062024.csv', sep=',')\n",
    "test_data = pd.read_csv('C:/Users/levle/OneDrive/Documents/Yandex_Practicum_main/Master1/M1_DS - Startups (STD)/kaggle_startups_test_28062024.csv', sep=',')"
   ]
  },
  {
   "cell_type": "code",
   "execution_count": 11,
   "id": "ad525529-dbfb-4c1e-9085-bfa9a5c6e536",
   "metadata": {
    "scrolled": true
   },
   "outputs": [
    {
     "data": {
      "text/html": [
       "<div>\n",
       "<style scoped>\n",
       "    .dataframe tbody tr th:only-of-type {\n",
       "        vertical-align: middle;\n",
       "    }\n",
       "\n",
       "    .dataframe tbody tr th {\n",
       "        vertical-align: top;\n",
       "    }\n",
       "\n",
       "    .dataframe thead th {\n",
       "        text-align: right;\n",
       "    }\n",
       "</style>\n",
       "<table border=\"1\" class=\"dataframe\">\n",
       "  <thead>\n",
       "    <tr style=\"text-align: right;\">\n",
       "      <th></th>\n",
       "      <th>name</th>\n",
       "      <th>category_list</th>\n",
       "      <th>funding_total_usd</th>\n",
       "      <th>status</th>\n",
       "      <th>country_code</th>\n",
       "      <th>state_code</th>\n",
       "      <th>region</th>\n",
       "      <th>city</th>\n",
       "      <th>funding_rounds</th>\n",
       "      <th>founded_at</th>\n",
       "      <th>first_funding_at</th>\n",
       "      <th>last_funding_at</th>\n",
       "      <th>closed_at</th>\n",
       "    </tr>\n",
       "  </thead>\n",
       "  <tbody>\n",
       "    <tr>\n",
       "      <th>0</th>\n",
       "      <td>Lunchgate</td>\n",
       "      <td>Online Reservations|Restaurants</td>\n",
       "      <td>828626.0</td>\n",
       "      <td>operating</td>\n",
       "      <td>CHE</td>\n",
       "      <td>25</td>\n",
       "      <td>Zurich</td>\n",
       "      <td>Zürich</td>\n",
       "      <td>2</td>\n",
       "      <td>2009-10-17</td>\n",
       "      <td>2011-05-01</td>\n",
       "      <td>2014-12-01</td>\n",
       "      <td>NaN</td>\n",
       "    </tr>\n",
       "    <tr>\n",
       "      <th>1</th>\n",
       "      <td>EarLens</td>\n",
       "      <td>Manufacturing|Medical|Medical Devices</td>\n",
       "      <td>42935019.0</td>\n",
       "      <td>operating</td>\n",
       "      <td>USA</td>\n",
       "      <td>CA</td>\n",
       "      <td>SF Bay Area</td>\n",
       "      <td>Redwood City</td>\n",
       "      <td>4</td>\n",
       "      <td>2005-01-01</td>\n",
       "      <td>2010-05-04</td>\n",
       "      <td>2014-02-25</td>\n",
       "      <td>NaN</td>\n",
       "    </tr>\n",
       "    <tr>\n",
       "      <th>2</th>\n",
       "      <td>Reviva Pharmaceuticals</td>\n",
       "      <td>Biotechnology</td>\n",
       "      <td>35456381.0</td>\n",
       "      <td>operating</td>\n",
       "      <td>USA</td>\n",
       "      <td>CA</td>\n",
       "      <td>SF Bay Area</td>\n",
       "      <td>San Jose</td>\n",
       "      <td>3</td>\n",
       "      <td>2006-01-01</td>\n",
       "      <td>2012-08-20</td>\n",
       "      <td>2014-07-02</td>\n",
       "      <td>NaN</td>\n",
       "    </tr>\n",
       "    <tr>\n",
       "      <th>3</th>\n",
       "      <td>Sancilio and Company</td>\n",
       "      <td>Health Care</td>\n",
       "      <td>22250000.0</td>\n",
       "      <td>operating</td>\n",
       "      <td>NaN</td>\n",
       "      <td>NaN</td>\n",
       "      <td>NaN</td>\n",
       "      <td>NaN</td>\n",
       "      <td>3</td>\n",
       "      <td>2004-01-01</td>\n",
       "      <td>2011-09-01</td>\n",
       "      <td>2014-07-18</td>\n",
       "      <td>NaN</td>\n",
       "    </tr>\n",
       "    <tr>\n",
       "      <th>4</th>\n",
       "      <td>WireTough Cylinders</td>\n",
       "      <td>Manufacturing</td>\n",
       "      <td>NaN</td>\n",
       "      <td>operating</td>\n",
       "      <td>USA</td>\n",
       "      <td>VA</td>\n",
       "      <td>VA - Other</td>\n",
       "      <td>Bristol</td>\n",
       "      <td>1</td>\n",
       "      <td>2010-05-12</td>\n",
       "      <td>2012-02-01</td>\n",
       "      <td>2012-02-01</td>\n",
       "      <td>NaN</td>\n",
       "    </tr>\n",
       "  </tbody>\n",
       "</table>\n",
       "</div>"
      ],
      "text/plain": [
       "                     name                          category_list  \\\n",
       "0               Lunchgate        Online Reservations|Restaurants   \n",
       "1                 EarLens  Manufacturing|Medical|Medical Devices   \n",
       "2  Reviva Pharmaceuticals                          Biotechnology   \n",
       "3    Sancilio and Company                            Health Care   \n",
       "4     WireTough Cylinders                          Manufacturing   \n",
       "\n",
       "   funding_total_usd     status country_code state_code       region  \\\n",
       "0           828626.0  operating          CHE         25       Zurich   \n",
       "1         42935019.0  operating          USA         CA  SF Bay Area   \n",
       "2         35456381.0  operating          USA         CA  SF Bay Area   \n",
       "3         22250000.0  operating          NaN        NaN          NaN   \n",
       "4                NaN  operating          USA         VA   VA - Other   \n",
       "\n",
       "           city  funding_rounds  founded_at first_funding_at last_funding_at  \\\n",
       "0        Zürich               2  2009-10-17       2011-05-01      2014-12-01   \n",
       "1  Redwood City               4  2005-01-01       2010-05-04      2014-02-25   \n",
       "2      San Jose               3  2006-01-01       2012-08-20      2014-07-02   \n",
       "3           NaN               3  2004-01-01       2011-09-01      2014-07-18   \n",
       "4       Bristol               1  2010-05-12       2012-02-01      2012-02-01   \n",
       "\n",
       "  closed_at  \n",
       "0       NaN  \n",
       "1       NaN  \n",
       "2       NaN  \n",
       "3       NaN  \n",
       "4       NaN  "
      ]
     },
     "execution_count": 11,
     "metadata": {},
     "output_type": "execute_result"
    }
   ],
   "source": [
    "train_data.head()"
   ]
  },
  {
   "cell_type": "code",
   "execution_count": 12,
   "id": "dfdfc77a-8787-4960-aa51-af5f9acc6f86",
   "metadata": {},
   "outputs": [
    {
     "data": {
      "text/html": [
       "<div>\n",
       "<style scoped>\n",
       "    .dataframe tbody tr th:only-of-type {\n",
       "        vertical-align: middle;\n",
       "    }\n",
       "\n",
       "    .dataframe tbody tr th {\n",
       "        vertical-align: top;\n",
       "    }\n",
       "\n",
       "    .dataframe thead th {\n",
       "        text-align: right;\n",
       "    }\n",
       "</style>\n",
       "<table border=\"1\" class=\"dataframe\">\n",
       "  <thead>\n",
       "    <tr style=\"text-align: right;\">\n",
       "      <th></th>\n",
       "      <th>name</th>\n",
       "      <th>category_list</th>\n",
       "      <th>funding_total_usd</th>\n",
       "      <th>country_code</th>\n",
       "      <th>state_code</th>\n",
       "      <th>region</th>\n",
       "      <th>city</th>\n",
       "      <th>funding_rounds</th>\n",
       "      <th>first_funding_at</th>\n",
       "      <th>last_funding_at</th>\n",
       "      <th>lifetime</th>\n",
       "    </tr>\n",
       "  </thead>\n",
       "  <tbody>\n",
       "    <tr>\n",
       "      <th>0</th>\n",
       "      <td>Crystalsol</td>\n",
       "      <td>Clean Technology</td>\n",
       "      <td>2819200.0</td>\n",
       "      <td>NIC</td>\n",
       "      <td>17</td>\n",
       "      <td>NaN</td>\n",
       "      <td>NaN</td>\n",
       "      <td>1</td>\n",
       "      <td>2009-07-01</td>\n",
       "      <td>2009-07-01</td>\n",
       "      <td>3501</td>\n",
       "    </tr>\n",
       "    <tr>\n",
       "      <th>1</th>\n",
       "      <td>JBI Fish &amp; Wings</td>\n",
       "      <td>Hospitality</td>\n",
       "      <td>NaN</td>\n",
       "      <td>USA</td>\n",
       "      <td>TN</td>\n",
       "      <td>TN - Other</td>\n",
       "      <td>Humboldt</td>\n",
       "      <td>1</td>\n",
       "      <td>2010-07-28</td>\n",
       "      <td>2010-07-28</td>\n",
       "      <td>2717</td>\n",
       "    </tr>\n",
       "    <tr>\n",
       "      <th>2</th>\n",
       "      <td>COINPLUS</td>\n",
       "      <td>Finance</td>\n",
       "      <td>428257.0</td>\n",
       "      <td>LUX</td>\n",
       "      <td>3</td>\n",
       "      <td>Esch-sur-alzette</td>\n",
       "      <td>Esch-sur-alzette</td>\n",
       "      <td>2</td>\n",
       "      <td>2014-05-15</td>\n",
       "      <td>2014-09-18</td>\n",
       "      <td>1295</td>\n",
       "    </tr>\n",
       "    <tr>\n",
       "      <th>3</th>\n",
       "      <td>Imagine Communications</td>\n",
       "      <td>Software|Video|Video Streaming</td>\n",
       "      <td>34700000.0</td>\n",
       "      <td>USA</td>\n",
       "      <td>CA</td>\n",
       "      <td>San Diego</td>\n",
       "      <td>San Diego</td>\n",
       "      <td>4</td>\n",
       "      <td>2005-01-01</td>\n",
       "      <td>2010-04-20</td>\n",
       "      <td>4748</td>\n",
       "    </tr>\n",
       "    <tr>\n",
       "      <th>4</th>\n",
       "      <td>DNA13</td>\n",
       "      <td>Software</td>\n",
       "      <td>4530000.0</td>\n",
       "      <td>CAN</td>\n",
       "      <td>ON</td>\n",
       "      <td>Ottawa</td>\n",
       "      <td>Ottawa</td>\n",
       "      <td>1</td>\n",
       "      <td>2007-05-08</td>\n",
       "      <td>2007-05-08</td>\n",
       "      <td>6209</td>\n",
       "    </tr>\n",
       "  </tbody>\n",
       "</table>\n",
       "</div>"
      ],
      "text/plain": [
       "                     name                   category_list  funding_total_usd  \\\n",
       "0              Crystalsol                Clean Technology          2819200.0   \n",
       "1        JBI Fish & Wings                     Hospitality                NaN   \n",
       "2                COINPLUS                         Finance           428257.0   \n",
       "3  Imagine Communications  Software|Video|Video Streaming         34700000.0   \n",
       "4                   DNA13                        Software          4530000.0   \n",
       "\n",
       "  country_code state_code            region              city  funding_rounds  \\\n",
       "0          NIC         17               NaN               NaN               1   \n",
       "1          USA         TN        TN - Other          Humboldt               1   \n",
       "2          LUX          3  Esch-sur-alzette  Esch-sur-alzette               2   \n",
       "3          USA         CA         San Diego         San Diego               4   \n",
       "4          CAN         ON            Ottawa            Ottawa               1   \n",
       "\n",
       "  first_funding_at last_funding_at  lifetime  \n",
       "0       2009-07-01      2009-07-01      3501  \n",
       "1       2010-07-28      2010-07-28      2717  \n",
       "2       2014-05-15      2014-09-18      1295  \n",
       "3       2005-01-01      2010-04-20      4748  \n",
       "4       2007-05-08      2007-05-08      6209  "
      ]
     },
     "execution_count": 12,
     "metadata": {},
     "output_type": "execute_result"
    }
   ],
   "source": [
    "test_data.head()"
   ]
  },
  {
   "cell_type": "markdown",
   "id": "85db217c-75be-40a6-8beb-aab776cbbad8",
   "metadata": {},
   "source": [
    "## Вывод\n",
    "\n",
    "Данные загруженны, проблем с разделителем нет"
   ]
  },
  {
   "cell_type": "markdown",
   "id": "94a9b0d4-6aef-4559-8117-7ba055d2507c",
   "metadata": {},
   "source": [
    "# 2. Предварительная обработка"
   ]
  },
  {
   "cell_type": "markdown",
   "id": "abd40aea-7dc2-40d9-bcc5-02cf8fc9696f",
   "metadata": {},
   "source": [
    "## train data"
   ]
  },
  {
   "cell_type": "code",
   "execution_count": 16,
   "id": "c802ea2c-a6c5-4255-a692-dd5c7234e237",
   "metadata": {},
   "outputs": [
    {
     "name": "stdout",
     "output_type": "stream",
     "text": [
      "<class 'pandas.core.frame.DataFrame'>\n",
      "RangeIndex: 52516 entries, 0 to 52515\n",
      "Data columns (total 13 columns):\n",
      " #   Column             Non-Null Count  Dtype  \n",
      "---  ------             --------------  -----  \n",
      " 0   name               52515 non-null  object \n",
      " 1   category_list      50051 non-null  object \n",
      " 2   funding_total_usd  42447 non-null  float64\n",
      " 3   status             52516 non-null  object \n",
      " 4   country_code       47014 non-null  object \n",
      " 5   state_code         45753 non-null  object \n",
      " 6   region             46157 non-null  object \n",
      " 7   city               46157 non-null  object \n",
      " 8   funding_rounds     52516 non-null  int64  \n",
      " 9   founded_at         52516 non-null  object \n",
      " 10  first_funding_at   52516 non-null  object \n",
      " 11  last_funding_at    52516 non-null  object \n",
      " 12  closed_at          4917 non-null   object \n",
      "dtypes: float64(1), int64(1), object(11)\n",
      "memory usage: 5.2+ MB\n"
     ]
    }
   ],
   "source": [
    "train_data.info()"
   ]
  },
  {
   "cell_type": "code",
   "execution_count": 17,
   "id": "e1f1c8ec-73e5-4916-ad08-e8da7bae438a",
   "metadata": {},
   "outputs": [],
   "source": [
    "train_data['founded_at'] = pd.to_datetime(train_data['founded_at'], errors='coerce')\n",
    "train_data['first_funding_at'] = pd.to_datetime(train_data['first_funding_at'], errors='coerce')\n",
    "train_data['last_funding_at'] = pd.to_datetime(train_data['last_funding_at'], errors='coerce')"
   ]
  },
  {
   "cell_type": "code",
   "execution_count": 18,
   "id": "c31460b0-53b1-475c-aa1e-ad614001e4a5",
   "metadata": {},
   "outputs": [
    {
     "data": {
      "text/html": [
       "<div>\n",
       "<style scoped>\n",
       "    .dataframe tbody tr th:only-of-type {\n",
       "        vertical-align: middle;\n",
       "    }\n",
       "\n",
       "    .dataframe tbody tr th {\n",
       "        vertical-align: top;\n",
       "    }\n",
       "\n",
       "    .dataframe thead th {\n",
       "        text-align: right;\n",
       "    }\n",
       "</style>\n",
       "<table border=\"1\" class=\"dataframe\">\n",
       "  <thead>\n",
       "    <tr style=\"text-align: right;\">\n",
       "      <th></th>\n",
       "      <th>funding_total_usd</th>\n",
       "      <th>funding_rounds</th>\n",
       "      <th>founded_at</th>\n",
       "      <th>first_funding_at</th>\n",
       "      <th>last_funding_at</th>\n",
       "    </tr>\n",
       "  </thead>\n",
       "  <tbody>\n",
       "    <tr>\n",
       "      <th>count</th>\n",
       "      <td>4.244700e+04</td>\n",
       "      <td>52516.000000</td>\n",
       "      <td>52516</td>\n",
       "      <td>52516</td>\n",
       "      <td>52516</td>\n",
       "    </tr>\n",
       "    <tr>\n",
       "      <th>mean</th>\n",
       "      <td>1.824748e+07</td>\n",
       "      <td>1.740670</td>\n",
       "      <td>2008-11-04 09:44:16.196206848</td>\n",
       "      <td>2011-07-17 04:45:33.247010304</td>\n",
       "      <td>2012-06-27 16:29:42.313961472</td>\n",
       "    </tr>\n",
       "    <tr>\n",
       "      <th>min</th>\n",
       "      <td>1.000000e+00</td>\n",
       "      <td>1.000000</td>\n",
       "      <td>1970-02-05 00:00:00</td>\n",
       "      <td>1977-05-15 00:00:00</td>\n",
       "      <td>1977-05-15 00:00:00</td>\n",
       "    </tr>\n",
       "    <tr>\n",
       "      <th>25%</th>\n",
       "      <td>3.360275e+05</td>\n",
       "      <td>1.000000</td>\n",
       "      <td>2006-10-01 00:00:00</td>\n",
       "      <td>2009-10-12 00:00:00</td>\n",
       "      <td>2011-02-01 00:00:00</td>\n",
       "    </tr>\n",
       "    <tr>\n",
       "      <th>50%</th>\n",
       "      <td>2.000000e+06</td>\n",
       "      <td>1.000000</td>\n",
       "      <td>2010-10-01 00:00:00</td>\n",
       "      <td>2012-07-23 00:00:00</td>\n",
       "      <td>2013-08-30 00:00:00</td>\n",
       "    </tr>\n",
       "    <tr>\n",
       "      <th>75%</th>\n",
       "      <td>1.000000e+07</td>\n",
       "      <td>2.000000</td>\n",
       "      <td>2013-01-01 00:00:00</td>\n",
       "      <td>2014-04-01 00:00:00</td>\n",
       "      <td>2014-11-17 00:00:00</td>\n",
       "    </tr>\n",
       "    <tr>\n",
       "      <th>max</th>\n",
       "      <td>3.007950e+10</td>\n",
       "      <td>19.000000</td>\n",
       "      <td>2016-04-02 00:00:00</td>\n",
       "      <td>2015-12-05 00:00:00</td>\n",
       "      <td>2015-12-07 00:00:00</td>\n",
       "    </tr>\n",
       "    <tr>\n",
       "      <th>std</th>\n",
       "      <td>1.871173e+08</td>\n",
       "      <td>1.374522</td>\n",
       "      <td>NaN</td>\n",
       "      <td>NaN</td>\n",
       "      <td>NaN</td>\n",
       "    </tr>\n",
       "  </tbody>\n",
       "</table>\n",
       "</div>"
      ],
      "text/plain": [
       "       funding_total_usd  funding_rounds                     founded_at  \\\n",
       "count       4.244700e+04    52516.000000                          52516   \n",
       "mean        1.824748e+07        1.740670  2008-11-04 09:44:16.196206848   \n",
       "min         1.000000e+00        1.000000            1970-02-05 00:00:00   \n",
       "25%         3.360275e+05        1.000000            2006-10-01 00:00:00   \n",
       "50%         2.000000e+06        1.000000            2010-10-01 00:00:00   \n",
       "75%         1.000000e+07        2.000000            2013-01-01 00:00:00   \n",
       "max         3.007950e+10       19.000000            2016-04-02 00:00:00   \n",
       "std         1.871173e+08        1.374522                            NaN   \n",
       "\n",
       "                    first_funding_at                last_funding_at  \n",
       "count                          52516                          52516  \n",
       "mean   2011-07-17 04:45:33.247010304  2012-06-27 16:29:42.313961472  \n",
       "min              1977-05-15 00:00:00            1977-05-15 00:00:00  \n",
       "25%              2009-10-12 00:00:00            2011-02-01 00:00:00  \n",
       "50%              2012-07-23 00:00:00            2013-08-30 00:00:00  \n",
       "75%              2014-04-01 00:00:00            2014-11-17 00:00:00  \n",
       "max              2015-12-05 00:00:00            2015-12-07 00:00:00  \n",
       "std                              NaN                            NaN  "
      ]
     },
     "execution_count": 18,
     "metadata": {},
     "output_type": "execute_result"
    }
   ],
   "source": [
    "train_data.describe()"
   ]
  },
  {
   "cell_type": "code",
   "execution_count": 19,
   "id": "b20de3bb-614a-48ff-a53c-f851bc83d246",
   "metadata": {},
   "outputs": [
    {
     "data": {
      "text/plain": [
       "30079503000.0"
      ]
     },
     "execution_count": 19,
     "metadata": {},
     "output_type": "execute_result"
    }
   ],
   "source": [
    "train_data['funding_total_usd'].max()"
   ]
  },
  {
   "cell_type": "code",
   "execution_count": 20,
   "id": "89d80469-90c2-4f9a-afc1-dca9f4b4a094",
   "metadata": {},
   "outputs": [
    {
     "data": {
      "image/png": "[encoded data removed]",
      "text/plain": [
       "<Figure size 1000x600 with 1 Axes>"
      ]
     },
     "metadata": {},
     "output_type": "display_data"
    }
   ],
   "source": [
    "plt.figure(figsize=(10, 6))\n",
    "sns.histplot(train_data['funding_total_usd'], bins=50, kde=True)\n",
    "plt.title('Histogram of funding_total_usd')\n",
    "plt.xlabel('funding_total_usd')\n",
    "plt.ylabel('Frequency')\n",
    "plt.show()"
   ]
  },
  {
   "cell_type": "code",
   "execution_count": 21,
   "id": "aae3aa96-6b82-48aa-8602-2cd8ee361e42",
   "metadata": {},
   "outputs": [
    {
     "data": {
      "image/png": "[encoded data removed]",
      "text/plain": [
       "<Figure size 1000x600 with 1 Axes>"
      ]
     },
     "metadata": {},
     "output_type": "display_data"
    }
   ],
   "source": [
    "plt.figure(figsize=(10, 6))\n",
    "sns.histplot(train_data['funding_rounds'], bins=20, kde=True)\n",
    "plt.title('Histogram of funding_rounds')\n",
    "plt.xlabel('funding_rounds')\n",
    "plt.ylabel('Frequency')\n",
    "plt.show()"
   ]
  },
  {
   "cell_type": "code",
   "execution_count": 22,
   "id": "056109f2-6830-44c5-8f81-5bfc5f8fb64b",
   "metadata": {},
   "outputs": [],
   "source": [
    "##train_data[train_data['category_list'].isnull()].info()"
   ]
  },
  {
   "cell_type": "code",
   "execution_count": 23,
   "id": "97962f3a-8866-4aba-913c-d4234d425725",
   "metadata": {},
   "outputs": [
    {
     "data": {
      "text/plain": [
       "name                 0\n",
       "category_list        0\n",
       "funding_total_usd    0\n",
       "status               0\n",
       "country_code         0\n",
       "state_code           0\n",
       "region               0\n",
       "city                 0\n",
       "funding_rounds       0\n",
       "founded_at           0\n",
       "first_funding_at     0\n",
       "last_funding_at      0\n",
       "closed_at            0\n",
       "dtype: int64"
      ]
     },
     "execution_count": 23,
     "metadata": {},
     "output_type": "execute_result"
    }
   ],
   "source": [
    "duplicates = train_data.duplicated()\n",
    "duplicated_rows = train_data[duplicates]\n",
    "duplicated_rows.count()"
   ]
  },
  {
   "cell_type": "markdown",
   "id": "141a33e0-2b34-4ea9-9ab5-8adae5fc9cf4",
   "metadata": {},
   "source": [
    "### Вывод \n",
    "\n",
    "есть пропуски, явных дупликатов нет. Видно что есть несколько проектов с очень большим финансированием и большим количеством роундов сбора\n",
    "\n",
    "с размером финансирования нужно будет что-то делать если стараться оставить всю дату"
   ]
  },
  {
   "cell_type": "markdown",
   "id": "d068ab8d-5655-4b45-95d1-616d3f57beed",
   "metadata": {},
   "source": [
    "## test data"
   ]
  },
  {
   "cell_type": "code",
   "execution_count": 26,
   "id": "bf0efeb3-5dc7-42f4-9a4d-6a4ed7254784",
   "metadata": {},
   "outputs": [
    {
     "name": "stdout",
     "output_type": "stream",
     "text": [
      "<class 'pandas.core.frame.DataFrame'>\n",
      "RangeIndex: 13125 entries, 0 to 13124\n",
      "Data columns (total 11 columns):\n",
      " #   Column             Non-Null Count  Dtype  \n",
      "---  ------             --------------  -----  \n",
      " 0   name               13125 non-null  object \n",
      " 1   category_list      12534 non-null  object \n",
      " 2   funding_total_usd  10547 non-null  float64\n",
      " 3   country_code       11743 non-null  object \n",
      " 4   state_code         11430 non-null  object \n",
      " 5   region             11536 non-null  object \n",
      " 6   city               11538 non-null  object \n",
      " 7   funding_rounds     13125 non-null  int64  \n",
      " 8   first_funding_at   13125 non-null  object \n",
      " 9   last_funding_at    13125 non-null  object \n",
      " 10  lifetime           13125 non-null  int64  \n",
      "dtypes: float64(1), int64(2), object(8)\n",
      "memory usage: 1.1+ MB\n"
     ]
    }
   ],
   "source": [
    "test_data.info()"
   ]
  },
  {
   "cell_type": "code",
   "execution_count": 27,
   "id": "fb4275b9-4b87-4653-81c6-687c82f9f41e",
   "metadata": {},
   "outputs": [
    {
     "data": {
      "text/plain": [
       "name                 0\n",
       "category_list        0\n",
       "funding_total_usd    0\n",
       "country_code         0\n",
       "state_code           0\n",
       "region               0\n",
       "city                 0\n",
       "funding_rounds       0\n",
       "first_funding_at     0\n",
       "last_funding_at      0\n",
       "lifetime             0\n",
       "dtype: int64"
      ]
     },
     "execution_count": 27,
     "metadata": {},
     "output_type": "execute_result"
    }
   ],
   "source": [
    "duplicates = test_data.duplicated()\n",
    "duplicated_rows = test_data[duplicates]\n",
    "duplicated_rows.count()"
   ]
  },
  {
   "cell_type": "code",
   "execution_count": 28,
   "id": "15d07219-8c9c-452c-a12d-838247c10b08",
   "metadata": {},
   "outputs": [],
   "source": [
    "test_data['first_funding_at'] = pd.to_datetime(test_data['first_funding_at'], errors='coerce')\n",
    "test_data['last_funding_at'] = pd.to_datetime(test_data['last_funding_at'], errors='coerce')"
   ]
  },
  {
   "cell_type": "code",
   "execution_count": 29,
   "id": "b258285d-3364-4efc-95e3-cd9b07f37347",
   "metadata": {},
   "outputs": [
    {
     "data": {
      "text/html": [
       "<div>\n",
       "<style scoped>\n",
       "    .dataframe tbody tr th:only-of-type {\n",
       "        vertical-align: middle;\n",
       "    }\n",
       "\n",
       "    .dataframe tbody tr th {\n",
       "        vertical-align: top;\n",
       "    }\n",
       "\n",
       "    .dataframe thead th {\n",
       "        text-align: right;\n",
       "    }\n",
       "</style>\n",
       "<table border=\"1\" class=\"dataframe\">\n",
       "  <thead>\n",
       "    <tr style=\"text-align: right;\">\n",
       "      <th></th>\n",
       "      <th>funding_total_usd</th>\n",
       "      <th>funding_rounds</th>\n",
       "      <th>first_funding_at</th>\n",
       "      <th>last_funding_at</th>\n",
       "      <th>lifetime</th>\n",
       "    </tr>\n",
       "  </thead>\n",
       "  <tbody>\n",
       "    <tr>\n",
       "      <th>count</th>\n",
       "      <td>1.054700e+04</td>\n",
       "      <td>13125.000000</td>\n",
       "      <td>13125</td>\n",
       "      <td>13125</td>\n",
       "      <td>13125.000000</td>\n",
       "    </tr>\n",
       "    <tr>\n",
       "      <th>mean</th>\n",
       "      <td>1.654910e+07</td>\n",
       "      <td>1.714438</td>\n",
       "      <td>2011-07-23 20:54:08.640000</td>\n",
       "      <td>2012-06-16 05:03:41.348571392</td>\n",
       "      <td>3097.609524</td>\n",
       "    </tr>\n",
       "    <tr>\n",
       "      <th>min</th>\n",
       "      <td>1.000000e+00</td>\n",
       "      <td>1.000000</td>\n",
       "      <td>1973-04-15 00:00:00</td>\n",
       "      <td>1973-04-15 00:00:00</td>\n",
       "      <td>52.000000</td>\n",
       "    </tr>\n",
       "    <tr>\n",
       "      <th>25%</th>\n",
       "      <td>3.200000e+05</td>\n",
       "      <td>1.000000</td>\n",
       "      <td>2009-11-16 00:00:00</td>\n",
       "      <td>2011-01-10 00:00:00</td>\n",
       "      <td>1726.000000</td>\n",
       "    </tr>\n",
       "    <tr>\n",
       "      <th>50%</th>\n",
       "      <td>2.000000e+06</td>\n",
       "      <td>1.000000</td>\n",
       "      <td>2012-08-01 00:00:00</td>\n",
       "      <td>2013-08-21 00:00:00</td>\n",
       "      <td>2526.000000</td>\n",
       "    </tr>\n",
       "    <tr>\n",
       "      <th>75%</th>\n",
       "      <td>1.000000e+07</td>\n",
       "      <td>2.000000</td>\n",
       "      <td>2014-04-01 00:00:00</td>\n",
       "      <td>2014-11-11 00:00:00</td>\n",
       "      <td>3866.000000</td>\n",
       "    </tr>\n",
       "    <tr>\n",
       "      <th>max</th>\n",
       "      <td>4.715000e+09</td>\n",
       "      <td>15.000000</td>\n",
       "      <td>2015-12-03 00:00:00</td>\n",
       "      <td>2015-12-12 00:00:00</td>\n",
       "      <td>17167.000000</td>\n",
       "    </tr>\n",
       "    <tr>\n",
       "      <th>std</th>\n",
       "      <td>9.217283e+07</td>\n",
       "      <td>1.318800</td>\n",
       "      <td>NaN</td>\n",
       "      <td>NaN</td>\n",
       "      <td>2128.356554</td>\n",
       "    </tr>\n",
       "  </tbody>\n",
       "</table>\n",
       "</div>"
      ],
      "text/plain": [
       "       funding_total_usd  funding_rounds            first_funding_at  \\\n",
       "count       1.054700e+04    13125.000000                       13125   \n",
       "mean        1.654910e+07        1.714438  2011-07-23 20:54:08.640000   \n",
       "min         1.000000e+00        1.000000         1973-04-15 00:00:00   \n",
       "25%         3.200000e+05        1.000000         2009-11-16 00:00:00   \n",
       "50%         2.000000e+06        1.000000         2012-08-01 00:00:00   \n",
       "75%         1.000000e+07        2.000000         2014-04-01 00:00:00   \n",
       "max         4.715000e+09       15.000000         2015-12-03 00:00:00   \n",
       "std         9.217283e+07        1.318800                         NaN   \n",
       "\n",
       "                     last_funding_at      lifetime  \n",
       "count                          13125  13125.000000  \n",
       "mean   2012-06-16 05:03:41.348571392   3097.609524  \n",
       "min              1973-04-15 00:00:00     52.000000  \n",
       "25%              2011-01-10 00:00:00   1726.000000  \n",
       "50%              2013-08-21 00:00:00   2526.000000  \n",
       "75%              2014-11-11 00:00:00   3866.000000  \n",
       "max              2015-12-12 00:00:00  17167.000000  \n",
       "std                              NaN   2128.356554  "
      ]
     },
     "execution_count": 29,
     "metadata": {},
     "output_type": "execute_result"
    }
   ],
   "source": [
    "test_data.describe()"
   ]
  },
  {
   "cell_type": "code",
   "execution_count": 30,
   "id": "2785fe11-05ad-4b9f-821f-cc022026d058",
   "metadata": {},
   "outputs": [
    {
     "data": {
      "image/png": "[encoded data removed]",
      "text/plain": [
       "<Figure size 1000x600 with 1 Axes>"
      ]
     },
     "metadata": {},
     "output_type": "display_data"
    }
   ],
   "source": [
    "plt.figure(figsize=(10, 6))\n",
    "sns.histplot(test_data['funding_total_usd'], bins=50, kde=True)\n",
    "plt.title('Histogram of funding_total_usd')\n",
    "plt.xlabel('funding_total_usd')\n",
    "plt.ylabel('Frequency')\n",
    "plt.show()"
   ]
  },
  {
   "cell_type": "code",
   "execution_count": 31,
   "id": "854c3005-623e-4c39-a5bc-760111880afc",
   "metadata": {},
   "outputs": [
    {
     "data": {
      "image/png": "[encoded data removed]",
      "text/plain": [
       "<Figure size 1000x600 with 1 Axes>"
      ]
     },
     "metadata": {},
     "output_type": "display_data"
    }
   ],
   "source": [
    "plt.figure(figsize=(10, 6))\n",
    "sns.histplot(test_data['funding_rounds'], bins=50, kde=True)\n",
    "plt.title('Histogram of funding_rounds')\n",
    "plt.xlabel('funding_rounds')\n",
    "plt.ylabel('Frequency')\n",
    "plt.show()"
   ]
  },
  {
   "cell_type": "code",
   "execution_count": 32,
   "id": "82eb1141-05bc-4a4e-8d25-c244242cdcd6",
   "metadata": {},
   "outputs": [
    {
     "data": {
      "image/png": "[encoded data removed]",
      "text/plain": [
       "<Figure size 1000x600 with 1 Axes>"
      ]
     },
     "metadata": {},
     "output_type": "display_data"
    }
   ],
   "source": [
    "plt.figure(figsize=(10, 6))\n",
    "sns.histplot(test_data['lifetime'], bins=50, kde=True)\n",
    "plt.title('Histogram of lifetime')\n",
    "plt.xlabel('lifetime')\n",
    "plt.ylabel('Frequency')\n",
    "plt.show()"
   ]
  },
  {
   "cell_type": "markdown",
   "id": "531e1ea3-45cd-4b8d-9d22-a83063b85b83",
   "metadata": {},
   "source": [
    "### Вывод \n",
    "\n",
    "есть пропуски, явных дупликатов нет. Видно что есть несколько проектов с очень большим финансированием и большим количеством роундов сбора\n",
    "\n",
    "с размером финансирования нужно будет что-то делать если стараться оставить всю дату"
   ]
  },
  {
   "cell_type": "markdown",
   "id": "e6e82d7f-f711-4d04-9ecb-bed5078a71e1",
   "metadata": {},
   "source": [
    "## Заполнение пропущенных колонок"
   ]
  },
  {
   "cell_type": "markdown",
   "id": "3e1ecda6-2008-4db0-a100-13d77f98f150",
   "metadata": {},
   "source": [
    "train_data has status, founded_at, and closed_at, which are missing in test_data.\n",
    "\n",
    "test_data has lifetime, which is missing in train_data.\n",
    "\n",
    "Статус это таргет\n",
    "\n",
    "Founded_at можно высчитать используя lifetime в test_data\n",
    "\n",
    "lifetime с помощью founded_at в train_data"
   ]
  },
  {
   "cell_type": "code",
   "execution_count": 36,
   "id": "e32eeb77-4924-473f-91b3-8d80dc22e677",
   "metadata": {},
   "outputs": [],
   "source": [
    "train_data['extract_date'] = pd.to_datetime('2018-01-01')"
   ]
  },
  {
   "cell_type": "code",
   "execution_count": 37,
   "id": "ebad408a-56ed-47b4-bfb0-08319b0f5109",
   "metadata": {},
   "outputs": [],
   "source": [
    "test_data['extract_date'] = pd.to_datetime('2018-01-01')"
   ]
  },
  {
   "cell_type": "code",
   "execution_count": 38,
   "id": "c039a372-5f76-4979-94ba-bb9dcd59ef4a",
   "metadata": {},
   "outputs": [],
   "source": [
    "train_data['founded_at'] = pd.to_datetime(train_data['founded_at'], errors='coerce')"
   ]
  },
  {
   "cell_type": "code",
   "execution_count": 39,
   "id": "0821d3f6-36ba-41fe-95fe-852a3342ed08",
   "metadata": {},
   "outputs": [],
   "source": [
    "train_data['lifetime'] = np.where(\n",
    "    train_data['closed_at'].isnull(),\n",
    "    (train_data['extract_date'] - train_data['founded_at']).dt.days,  # If closed_at is null, use extract_date\n",
    "    (pd.to_datetime(train_data['closed_at']) - train_data['founded_at']).dt.days  # Otherwise, use closed_at\n",
    ")"
   ]
  },
  {
   "cell_type": "code",
   "execution_count": 40,
   "id": "855bcb88-ccff-465f-ba5b-52d8225b2099",
   "metadata": {},
   "outputs": [],
   "source": [
    "test_data['founded_at'] = test_data['extract_date'] - pd.to_timedelta(test_data['lifetime'], unit='D')"
   ]
  },
  {
   "cell_type": "code",
   "execution_count": 41,
   "id": "a6688fa6-37dd-4a33-8e1b-75cc58c6d5a2",
   "metadata": {},
   "outputs": [],
   "source": [
    "test_data['source'] = 'test_data'\n",
    "train_data['source'] = 'train_data'"
   ]
  },
  {
   "cell_type": "markdown",
   "id": "f008f61a-0f6e-453f-b7c8-7e16fceb9f66",
   "metadata": {},
   "source": [
    "# 3. Чистка, обработка пропусков и создание синтетических признаков"
   ]
  },
  {
   "cell_type": "code",
   "execution_count": 43,
   "id": "b9c60b27-bb24-45a9-89d2-331d27c61187",
   "metadata": {},
   "outputs": [],
   "source": [
    "combined_data = pd.concat([train_data, test_data], ignore_index=True)"
   ]
  },
  {
   "cell_type": "code",
   "execution_count": 44,
   "id": "35761868-bf01-4925-8925-f783b94885ab",
   "metadata": {},
   "outputs": [
    {
     "name": "stdout",
     "output_type": "stream",
     "text": [
      "<class 'pandas.core.frame.DataFrame'>\n",
      "RangeIndex: 65641 entries, 0 to 65640\n",
      "Data columns (total 16 columns):\n",
      " #   Column             Non-Null Count  Dtype         \n",
      "---  ------             --------------  -----         \n",
      " 0   name               65640 non-null  object        \n",
      " 1   category_list      62585 non-null  object        \n",
      " 2   funding_total_usd  52994 non-null  float64       \n",
      " 3   status             52516 non-null  object        \n",
      " 4   country_code       58757 non-null  object        \n",
      " 5   state_code         57183 non-null  object        \n",
      " 6   region             57693 non-null  object        \n",
      " 7   city               57695 non-null  object        \n",
      " 8   funding_rounds     65641 non-null  int64         \n",
      " 9   founded_at         65641 non-null  datetime64[ns]\n",
      " 10  first_funding_at   65641 non-null  datetime64[ns]\n",
      " 11  last_funding_at    65641 non-null  datetime64[ns]\n",
      " 12  closed_at          4917 non-null   object        \n",
      " 13  extract_date       65641 non-null  datetime64[ns]\n",
      " 14  lifetime           65641 non-null  float64       \n",
      " 15  source             65641 non-null  object        \n",
      "dtypes: datetime64[ns](4), float64(2), int64(1), object(9)\n",
      "memory usage: 8.0+ MB\n"
     ]
    }
   ],
   "source": [
    "combined_data.info()"
   ]
  },
  {
   "cell_type": "code",
   "execution_count": 45,
   "id": "e8fd4198-6089-412e-8e94-5412634581d8",
   "metadata": {},
   "outputs": [],
   "source": [
    "combined_data['category_list'] = combined_data['category_list'].fillna('unknown')"
   ]
  },
  {
   "cell_type": "code",
   "execution_count": 46,
   "id": "9f40179b-86c4-4a75-9741-76ee8db70992",
   "metadata": {},
   "outputs": [],
   "source": [
    "combined_data['status'] = np.where(\n",
    "    (combined_data['status'].isnull()) & (combined_data['source'] == 'train_data'),\n",
    "    np.where(combined_data['closed_at'].notnull(), 'closed', 'operating'),\n",
    "    combined_data['status']\n",
    ")"
   ]
  },
  {
   "cell_type": "code",
   "execution_count": 47,
   "id": "0c3f669f-9dad-43bb-959a-cedb337ff29d",
   "metadata": {},
   "outputs": [],
   "source": [
    "combined_data['country_code'] = combined_data['country_code'].fillna('unknown')\n",
    "combined_data['state_code'] = combined_data['state_code'].fillna('unknown')\n",
    "combined_data['region'] = combined_data['region'].fillna('unknown')\n",
    "combined_data['city'] = combined_data['city'].fillna('unknown')\n"
   ]
  },
  {
   "cell_type": "code",
   "execution_count": null,
   "id": "b6702e29-7a0e-4412-8e65-207249832eb2",
   "metadata": {},
   "outputs": [],
   "source": []
  },
  {
   "cell_type": "code",
   "execution_count": 48,
   "id": "d194b746-8ad9-4afb-ba9b-1f70f2f5b14c",
   "metadata": {
    "scrolled": true
   },
   "outputs": [
    {
     "name": "stdout",
     "output_type": "stream",
     "text": [
      "<class 'pandas.core.frame.DataFrame'>\n",
      "RangeIndex: 65641 entries, 0 to 65640\n",
      "Data columns (total 16 columns):\n",
      " #   Column             Non-Null Count  Dtype         \n",
      "---  ------             --------------  -----         \n",
      " 0   name               65640 non-null  object        \n",
      " 1   category_list      65641 non-null  object        \n",
      " 2   funding_total_usd  52994 non-null  float64       \n",
      " 3   status             52516 non-null  object        \n",
      " 4   country_code       65641 non-null  object        \n",
      " 5   state_code         65641 non-null  object        \n",
      " 6   region             65641 non-null  object        \n",
      " 7   city               65641 non-null  object        \n",
      " 8   funding_rounds     65641 non-null  int64         \n",
      " 9   founded_at         65641 non-null  datetime64[ns]\n",
      " 10  first_funding_at   65641 non-null  datetime64[ns]\n",
      " 11  last_funding_at    65641 non-null  datetime64[ns]\n",
      " 12  closed_at          4917 non-null   object        \n",
      " 13  extract_date       65641 non-null  datetime64[ns]\n",
      " 14  lifetime           65641 non-null  float64       \n",
      " 15  source             65641 non-null  object        \n",
      "dtypes: datetime64[ns](4), float64(2), int64(1), object(9)\n",
      "memory usage: 8.0+ MB\n"
     ]
    }
   ],
   "source": [
    "combined_data.info()"
   ]
  },
  {
   "cell_type": "code",
   "execution_count": 49,
   "id": "a1d92864-188d-4aae-8a8e-8688205a4aa0",
   "metadata": {
    "scrolled": true
   },
   "outputs": [
    {
     "data": {
      "text/html": [
       "<div>\n",
       "<style scoped>\n",
       "    .dataframe tbody tr th:only-of-type {\n",
       "        vertical-align: middle;\n",
       "    }\n",
       "\n",
       "    .dataframe tbody tr th {\n",
       "        vertical-align: top;\n",
       "    }\n",
       "\n",
       "    .dataframe thead th {\n",
       "        text-align: right;\n",
       "    }\n",
       "</style>\n",
       "<table border=\"1\" class=\"dataframe\">\n",
       "  <thead>\n",
       "    <tr style=\"text-align: right;\">\n",
       "      <th></th>\n",
       "      <th>name</th>\n",
       "      <th>category_list</th>\n",
       "      <th>funding_total_usd</th>\n",
       "      <th>status</th>\n",
       "      <th>country_code</th>\n",
       "      <th>state_code</th>\n",
       "      <th>region</th>\n",
       "      <th>city</th>\n",
       "      <th>funding_rounds</th>\n",
       "      <th>founded_at</th>\n",
       "      <th>first_funding_at</th>\n",
       "      <th>last_funding_at</th>\n",
       "      <th>closed_at</th>\n",
       "      <th>extract_date</th>\n",
       "      <th>lifetime</th>\n",
       "      <th>source</th>\n",
       "    </tr>\n",
       "  </thead>\n",
       "  <tbody>\n",
       "    <tr>\n",
       "      <th>4</th>\n",
       "      <td>WireTough Cylinders</td>\n",
       "      <td>Manufacturing</td>\n",
       "      <td>NaN</td>\n",
       "      <td>operating</td>\n",
       "      <td>USA</td>\n",
       "      <td>VA</td>\n",
       "      <td>VA - Other</td>\n",
       "      <td>Bristol</td>\n",
       "      <td>1</td>\n",
       "      <td>2010-05-12</td>\n",
       "      <td>2012-02-01</td>\n",
       "      <td>2012-02-01</td>\n",
       "      <td>NaN</td>\n",
       "      <td>2018-01-01</td>\n",
       "      <td>2791.0</td>\n",
       "      <td>train_data</td>\n",
       "    </tr>\n",
       "    <tr>\n",
       "      <th>10</th>\n",
       "      <td>Indie Vinos</td>\n",
       "      <td>Software</td>\n",
       "      <td>NaN</td>\n",
       "      <td>operating</td>\n",
       "      <td>USA</td>\n",
       "      <td>OR</td>\n",
       "      <td>Portland, Oregon</td>\n",
       "      <td>Portland</td>\n",
       "      <td>1</td>\n",
       "      <td>2009-01-01</td>\n",
       "      <td>2013-04-21</td>\n",
       "      <td>2013-04-21</td>\n",
       "      <td>NaN</td>\n",
       "      <td>2018-01-01</td>\n",
       "      <td>3287.0</td>\n",
       "      <td>train_data</td>\n",
       "    </tr>\n",
       "    <tr>\n",
       "      <th>16</th>\n",
       "      <td>Salesjob</td>\n",
       "      <td>unknown</td>\n",
       "      <td>NaN</td>\n",
       "      <td>closed</td>\n",
       "      <td>unknown</td>\n",
       "      <td>unknown</td>\n",
       "      <td>unknown</td>\n",
       "      <td>unknown</td>\n",
       "      <td>1</td>\n",
       "      <td>2013-01-01</td>\n",
       "      <td>2013-10-22</td>\n",
       "      <td>2013-10-22</td>\n",
       "      <td>2015-08-11</td>\n",
       "      <td>2018-01-01</td>\n",
       "      <td>952.0</td>\n",
       "      <td>train_data</td>\n",
       "    </tr>\n",
       "    <tr>\n",
       "      <th>24</th>\n",
       "      <td>Savasti</td>\n",
       "      <td>unknown</td>\n",
       "      <td>NaN</td>\n",
       "      <td>closed</td>\n",
       "      <td>unknown</td>\n",
       "      <td>unknown</td>\n",
       "      <td>unknown</td>\n",
       "      <td>unknown</td>\n",
       "      <td>1</td>\n",
       "      <td>2015-01-01</td>\n",
       "      <td>2015-01-01</td>\n",
       "      <td>2015-01-01</td>\n",
       "      <td>2016-11-03</td>\n",
       "      <td>2018-01-01</td>\n",
       "      <td>672.0</td>\n",
       "      <td>train_data</td>\n",
       "    </tr>\n",
       "    <tr>\n",
       "      <th>25</th>\n",
       "      <td>Brightree</td>\n",
       "      <td>Software</td>\n",
       "      <td>NaN</td>\n",
       "      <td>operating</td>\n",
       "      <td>USA</td>\n",
       "      <td>GA</td>\n",
       "      <td>Atlanta</td>\n",
       "      <td>Lawrenceville</td>\n",
       "      <td>1</td>\n",
       "      <td>2007-03-11</td>\n",
       "      <td>2008-07-15</td>\n",
       "      <td>2008-07-15</td>\n",
       "      <td>NaN</td>\n",
       "      <td>2018-01-01</td>\n",
       "      <td>3949.0</td>\n",
       "      <td>train_data</td>\n",
       "    </tr>\n",
       "    <tr>\n",
       "      <th>...</th>\n",
       "      <td>...</td>\n",
       "      <td>...</td>\n",
       "      <td>...</td>\n",
       "      <td>...</td>\n",
       "      <td>...</td>\n",
       "      <td>...</td>\n",
       "      <td>...</td>\n",
       "      <td>...</td>\n",
       "      <td>...</td>\n",
       "      <td>...</td>\n",
       "      <td>...</td>\n",
       "      <td>...</td>\n",
       "      <td>...</td>\n",
       "      <td>...</td>\n",
       "      <td>...</td>\n",
       "      <td>...</td>\n",
       "    </tr>\n",
       "    <tr>\n",
       "      <th>65624</th>\n",
       "      <td>Thumb Friendly</td>\n",
       "      <td>Mobile</td>\n",
       "      <td>NaN</td>\n",
       "      <td>NaN</td>\n",
       "      <td>USA</td>\n",
       "      <td>GA</td>\n",
       "      <td>Atlanta</td>\n",
       "      <td>Atlanta</td>\n",
       "      <td>1</td>\n",
       "      <td>2011-10-01</td>\n",
       "      <td>2013-03-07</td>\n",
       "      <td>2013-03-07</td>\n",
       "      <td>NaN</td>\n",
       "      <td>2018-01-01</td>\n",
       "      <td>2284.0</td>\n",
       "      <td>test_data</td>\n",
       "    </tr>\n",
       "    <tr>\n",
       "      <th>65626</th>\n",
       "      <td>Bloomz, Inc.</td>\n",
       "      <td>Education|Information Technology|Mobile Softwa...</td>\n",
       "      <td>NaN</td>\n",
       "      <td>NaN</td>\n",
       "      <td>USA</td>\n",
       "      <td>WA</td>\n",
       "      <td>Seattle</td>\n",
       "      <td>Redmond</td>\n",
       "      <td>3</td>\n",
       "      <td>2014-01-01</td>\n",
       "      <td>2014-01-22</td>\n",
       "      <td>2015-11-13</td>\n",
       "      <td>NaN</td>\n",
       "      <td>2018-01-01</td>\n",
       "      <td>1461.0</td>\n",
       "      <td>test_data</td>\n",
       "    </tr>\n",
       "    <tr>\n",
       "      <th>65629</th>\n",
       "      <td>The Fabulous</td>\n",
       "      <td>Apps</td>\n",
       "      <td>NaN</td>\n",
       "      <td>NaN</td>\n",
       "      <td>FRA</td>\n",
       "      <td>A8</td>\n",
       "      <td>Paris</td>\n",
       "      <td>Paris</td>\n",
       "      <td>1</td>\n",
       "      <td>2014-07-08</td>\n",
       "      <td>2015-03-09</td>\n",
       "      <td>2015-03-09</td>\n",
       "      <td>NaN</td>\n",
       "      <td>2018-01-01</td>\n",
       "      <td>1273.0</td>\n",
       "      <td>test_data</td>\n",
       "    </tr>\n",
       "    <tr>\n",
       "      <th>65630</th>\n",
       "      <td>VIPTALON</td>\n",
       "      <td>Discounts|Fashion|Shopping</td>\n",
       "      <td>NaN</td>\n",
       "      <td>NaN</td>\n",
       "      <td>RUS</td>\n",
       "      <td>48</td>\n",
       "      <td>Moscow</td>\n",
       "      <td>Moscow</td>\n",
       "      <td>1</td>\n",
       "      <td>2011-01-13</td>\n",
       "      <td>2011-01-13</td>\n",
       "      <td>2011-01-13</td>\n",
       "      <td>NaN</td>\n",
       "      <td>2018-01-01</td>\n",
       "      <td>2545.0</td>\n",
       "      <td>test_data</td>\n",
       "    </tr>\n",
       "    <tr>\n",
       "      <th>65637</th>\n",
       "      <td>GlobaTrek</td>\n",
       "      <td>Software</td>\n",
       "      <td>NaN</td>\n",
       "      <td>NaN</td>\n",
       "      <td>USA</td>\n",
       "      <td>CA</td>\n",
       "      <td>SF Bay Area</td>\n",
       "      <td>Mountain View</td>\n",
       "      <td>1</td>\n",
       "      <td>2012-01-01</td>\n",
       "      <td>2013-10-01</td>\n",
       "      <td>2013-10-01</td>\n",
       "      <td>NaN</td>\n",
       "      <td>2018-01-01</td>\n",
       "      <td>2192.0</td>\n",
       "      <td>test_data</td>\n",
       "    </tr>\n",
       "  </tbody>\n",
       "</table>\n",
       "<p>12647 rows × 16 columns</p>\n",
       "</div>"
      ],
      "text/plain": [
       "                      name                                      category_list  \\\n",
       "4      WireTough Cylinders                                      Manufacturing   \n",
       "10             Indie Vinos                                           Software   \n",
       "16                Salesjob                                            unknown   \n",
       "24                 Savasti                                            unknown   \n",
       "25               Brightree                                           Software   \n",
       "...                    ...                                                ...   \n",
       "65624       Thumb Friendly                                             Mobile   \n",
       "65626         Bloomz, Inc.  Education|Information Technology|Mobile Softwa...   \n",
       "65629         The Fabulous                                               Apps   \n",
       "65630             VIPTALON                         Discounts|Fashion|Shopping   \n",
       "65637            GlobaTrek                                           Software   \n",
       "\n",
       "       funding_total_usd     status country_code state_code            region  \\\n",
       "4                    NaN  operating          USA         VA        VA - Other   \n",
       "10                   NaN  operating          USA         OR  Portland, Oregon   \n",
       "16                   NaN     closed      unknown    unknown           unknown   \n",
       "24                   NaN     closed      unknown    unknown           unknown   \n",
       "25                   NaN  operating          USA         GA           Atlanta   \n",
       "...                  ...        ...          ...        ...               ...   \n",
       "65624                NaN        NaN          USA         GA           Atlanta   \n",
       "65626                NaN        NaN          USA         WA           Seattle   \n",
       "65629                NaN        NaN          FRA         A8             Paris   \n",
       "65630                NaN        NaN          RUS         48            Moscow   \n",
       "65637                NaN        NaN          USA         CA       SF Bay Area   \n",
       "\n",
       "                city  funding_rounds founded_at first_funding_at  \\\n",
       "4            Bristol               1 2010-05-12       2012-02-01   \n",
       "10          Portland               1 2009-01-01       2013-04-21   \n",
       "16           unknown               1 2013-01-01       2013-10-22   \n",
       "24           unknown               1 2015-01-01       2015-01-01   \n",
       "25     Lawrenceville               1 2007-03-11       2008-07-15   \n",
       "...              ...             ...        ...              ...   \n",
       "65624        Atlanta               1 2011-10-01       2013-03-07   \n",
       "65626        Redmond               3 2014-01-01       2014-01-22   \n",
       "65629          Paris               1 2014-07-08       2015-03-09   \n",
       "65630         Moscow               1 2011-01-13       2011-01-13   \n",
       "65637  Mountain View               1 2012-01-01       2013-10-01   \n",
       "\n",
       "      last_funding_at   closed_at extract_date  lifetime      source  \n",
       "4          2012-02-01         NaN   2018-01-01    2791.0  train_data  \n",
       "10         2013-04-21         NaN   2018-01-01    3287.0  train_data  \n",
       "16         2013-10-22  2015-08-11   2018-01-01     952.0  train_data  \n",
       "24         2015-01-01  2016-11-03   2018-01-01     672.0  train_data  \n",
       "25         2008-07-15         NaN   2018-01-01    3949.0  train_data  \n",
       "...               ...         ...          ...       ...         ...  \n",
       "65624      2013-03-07         NaN   2018-01-01    2284.0   test_data  \n",
       "65626      2015-11-13         NaN   2018-01-01    1461.0   test_data  \n",
       "65629      2015-03-09         NaN   2018-01-01    1273.0   test_data  \n",
       "65630      2011-01-13         NaN   2018-01-01    2545.0   test_data  \n",
       "65637      2013-10-01         NaN   2018-01-01    2192.0   test_data  \n",
       "\n",
       "[12647 rows x 16 columns]"
      ]
     },
     "execution_count": 49,
     "metadata": {},
     "output_type": "execute_result"
    }
   ],
   "source": [
    "combined_data[combined_data['funding_total_usd'].isnull()]"
   ]
  },
  {
   "cell_type": "markdown",
   "id": "6f061df4-043c-4782-821a-5fc70f307c14",
   "metadata": {},
   "source": [
    "### TF-IDF + KMeans кластеринг"
   ]
  },
  {
   "cell_type": "code",
   "execution_count": 51,
   "id": "0cf5bcfc-2dc8-4681-9bb9-e21c32f2f428",
   "metadata": {},
   "outputs": [],
   "source": [
    "##vectorizer = TfidfVectorizer(stop_words='english')\n",
    "##tfidf_matrix = vectorizer.fit_transform(combined_data['category_list'])"
   ]
  },
  {
   "cell_type": "code",
   "execution_count": 52,
   "id": "2cc06a3a-0a5a-4ce5-a23c-bc22125a5a5a",
   "metadata": {},
   "outputs": [],
   "source": [
    "##n_clusters = 20 \n",
    "##kmeans = KMeans(n_clusters=n_clusters, random_state=42)\n",
    "##combined_data['category_cluster'] = kmeans.fit_predict(tfidf_matrix)"
   ]
  },
  {
   "cell_type": "code",
   "execution_count": 53,
   "id": "c87938c3-863c-46f0-9403-648f6491be91",
   "metadata": {},
   "outputs": [],
   "source": [
    "##unique_combinations = combined_data[['category_cluster', 'category_list']].drop_duplicates()"
   ]
  },
  {
   "cell_type": "code",
   "execution_count": 54,
   "id": "2b3acce9-1067-43b8-8eb5-371e9acd9fd0",
   "metadata": {},
   "outputs": [],
   "source": [
    "##unique_combinations.head(50)"
   ]
  },
  {
   "cell_type": "markdown",
   "id": "45ecd3bf-8402-4f17-912b-1b7e81c0b1d5",
   "metadata": {},
   "source": [
    "### first category"
   ]
  },
  {
   "cell_type": "code",
   "execution_count": 56,
   "id": "d1b3da48-9fe9-43dc-b66c-98e7dfbccf1f",
   "metadata": {},
   "outputs": [],
   "source": [
    "combined_data['first_category'] = combined_data['category_list'].str.split('|').str[0].str.lower()\n"
   ]
  },
  {
   "cell_type": "code",
   "execution_count": 57,
   "id": "83b05435-48e6-451e-ae36-5382aa622d20",
   "metadata": {},
   "outputs": [],
   "source": [
    "unique_categories = combined_data['first_category'].dropna().unique().tolist()\n"
   ]
  },
  {
   "cell_type": "code",
   "execution_count": 58,
   "id": "6cdaa5ee-fd5f-4848-af06-c522cbba60c7",
   "metadata": {},
   "outputs": [],
   "source": [
    "threshold = 90  # Similarity threshold\n",
    "matches = {}\n",
    "\n",
    "for category in unique_categories:\n",
    "    # Extract similar categories with scores\n",
    "    match_list = process.extract(category, unique_categories, limit=None, scorer=fuzz.partial_ratio)\n",
    "    \n",
    "    for match, score in match_list:\n",
    "        if score >= threshold and category != match:\n",
    "            # Add the match to the dictionary\n",
    "            if category not in matches:\n",
    "                matches[category] = []\n",
    "            matches[category].append((match, score))\n"
   ]
  },
  {
   "cell_type": "code",
   "execution_count": null,
   "id": "1e741bb2-8704-40a5-87d0-3fccfd234194",
   "metadata": {},
   "outputs": [],
   "source": [
    "category_mapping = {}\n",
    "\n",
    "for main_category, similar_categories in matches.items():\n",
    "    # Get the frequency of each category\n",
    "    frequencies = combined_data['first_category'].value_counts()\n",
    "    \n",
    "    # Select the most frequent category to be the main one\n",
    "    best_match = max([main_category] + [match for match, score in similar_categories],\n",
    "                     key=lambda x: frequencies.get(x, 0))\n",
    "    \n",
    "    # Map all similar categories to the main category\n",
    "    for match, score in similar_categories:\n",
    "        category_mapping[match] = best_match\n",
    "    category_mapping[main_category] = best_match  # Include the main category itself\n"
   ]
  },
  {
   "cell_type": "code",
   "execution_count": null,
   "id": "8cce1302-9d4f-47bb-a522-ded7ddb4d9c6",
   "metadata": {},
   "outputs": [],
   "source": [
    "combined_data['standardized_category'] = combined_data['first_category'].map(category_mapping).fillna(combined_data['first_category'])"
   ]
  },
  {
   "cell_type": "code",
   "execution_count": null,
   "id": "a1087672-80d9-4ab4-b58b-27d536b548c0",
   "metadata": {},
   "outputs": [],
   "source": [
    "combined_data.head()"
   ]
  },
  {
   "cell_type": "markdown",
   "id": "b917a18e-bb62-4d67-b60c-9a084881b38c",
   "metadata": {},
   "source": [
    "### Word Embeddings + Clustering"
   ]
  },
  {
   "cell_type": "code",
   "execution_count": null,
   "id": "eb7d4f2a-c675-4c4f-a576-7b4257873323",
   "metadata": {},
   "outputs": [],
   "source": [
    "category_tokens = combined_data['standardized_category'].str.split('|').tolist()"
   ]
  },
  {
   "cell_type": "code",
   "execution_count": null,
   "id": "32cc0624-be2d-4bd1-b9b3-23674e78b027",
   "metadata": {},
   "outputs": [],
   "source": [
    "w2v_model = Word2Vec(category_tokens, vector_size=100, window=5, min_count=1, sg=1)"
   ]
  },
  {
   "cell_type": "code",
   "execution_count": null,
   "id": "e78ee1e3-7d33-436c-824b-03b21fbbb719",
   "metadata": {},
   "outputs": [],
   "source": [
    "def get_category_vector(category):\n",
    "    words = category.split('|')\n",
    "    word_vectors = [w2v_model.wv[word] for word in words if word in w2v_model.wv]\n",
    "    if word_vectors:\n",
    "        return np.mean(word_vectors, axis=0)\n",
    "    else:\n",
    "        return np.zeros(100)  \n",
    "\n",
    "combined_data['category_vector'] = combined_data['standardized_category'].apply(get_category_vector)"
   ]
  },
  {
   "cell_type": "code",
   "execution_count": null,
   "id": "2a175d15-95cb-47d4-92b1-d5ee3b661aa1",
   "metadata": {},
   "outputs": [],
   "source": [
    "category_matrix = np.stack(combined_data['category_vector'].values)\n",
    "kmeans = KMeans(n_clusters=20, random_state=42)\n",
    "combined_data['category_cluster'] = kmeans.fit_predict(category_matrix)"
   ]
  },
  {
   "cell_type": "code",
   "execution_count": null,
   "id": "2ac40d9a-4e36-4e1c-8500-6aa5fc4f043c",
   "metadata": {},
   "outputs": [],
   "source": [
    "unique_combinations = combined_data[['category_cluster', 'standardized_category']].drop_duplicates()"
   ]
  },
  {
   "cell_type": "code",
   "execution_count": null,
   "id": "1e6a872b-8d8e-4baa-8f88-73306082848f",
   "metadata": {},
   "outputs": [],
   "source": [
    "centroids = kmeans.cluster_centers_\n",
    "\n",
    "def closest_words_to_centroid(centroid, model, top_n=10):\n",
    "    word_vectors = model.wv\n",
    "    closest_words = word_vectors.similar_by_vector(centroid, topn=top_n)\n",
    "    return [word for word, similarity in closest_words]\n",
    "\n",
    "top_words_per_cluster = []\n",
    "for centroid in centroids:\n",
    "    top_words = closest_words_to_centroid(centroid, w2v_model)\n",
    "    top_words_per_cluster.append(top_words)\n",
    "\n",
    "for idx, words in enumerate(top_words_per_cluster):\n",
    "    print(f\"Cluster {idx}: {words}\")"
   ]
  },
  {
   "cell_type": "code",
   "execution_count": null,
   "id": "d58d8f6a-2307-437f-bd18-6f6794c1aadb",
   "metadata": {},
   "outputs": [],
   "source": []
  },
  {
   "cell_type": "markdown",
   "id": "2158b7cf-73a8-4e6f-b1f0-339f81f50674",
   "metadata": {},
   "source": [
    "### Continent"
   ]
  },
  {
   "cell_type": "code",
   "execution_count": null,
   "id": "cddb9434-0aa2-45a4-b787-34f961ccd608",
   "metadata": {},
   "outputs": [],
   "source": [
    "def country_to_continent(country_code):\n",
    "    try:\n",
    "        # Convert 3-letter country code to 2-letter\n",
    "        country_alpha2 = pc.country_alpha3_to_country_alpha2(country_code)\n",
    "        # Convert 2-letter country code to continent code (AF, EU, NA, etc.)\n",
    "        continent_code = pc.country_alpha2_to_continent_code(country_alpha2)\n",
    "        # Map continent codes to continent names\n",
    "        continent_name = {\n",
    "            'AF': 'Africa',\n",
    "            'NA': 'North America',\n",
    "            'OC': 'Oceania',\n",
    "            'AN': 'Antarctica',\n",
    "            'AS': 'Asia',\n",
    "            'EU': 'Europe',\n",
    "            'SA': 'South America'\n",
    "        }\n",
    "        return continent_name[continent_code]\n",
    "    except KeyError:\n",
    "        return 'Unknown'\n",
    "\n",
    "# Apply the function to the 'country_code' column\n",
    "combined_data['continent'] = combined_data['country_code'].apply(country_to_continent)"
   ]
  },
  {
   "cell_type": "code",
   "execution_count": null,
   "id": "656f29a6-5cf9-4431-bd73-b6b984748d17",
   "metadata": {},
   "outputs": [],
   "source": []
  },
  {
   "cell_type": "markdown",
   "id": "90ffcd68-47e9-4b23-abe1-66b7f70baed2",
   "metadata": {},
   "source": [
    "### Синтетика и заполнение сложных пропусков"
   ]
  },
  {
   "cell_type": "code",
   "execution_count": null,
   "id": "203d490d-3e5e-4dee-81d0-94cf94ba15e0",
   "metadata": {},
   "outputs": [],
   "source": [
    "combined_data['funding_rounds_capped'] = combined_data['funding_rounds'].clip(upper=6)"
   ]
  },
  {
   "cell_type": "code",
   "execution_count": null,
   "id": "2aba7707-88ce-4f55-8d4c-e7eaa8469aaa",
   "metadata": {},
   "outputs": [],
   "source": [
    "combined_data['founded_year'] = combined_data['founded_at'].dt.year"
   ]
  },
  {
   "cell_type": "code",
   "execution_count": null,
   "id": "9dfffb17-f4ee-440c-b0d1-969d54fb2673",
   "metadata": {},
   "outputs": [],
   "source": [
    "combined_data['founded_month'] = combined_data['founded_at'].dt.month"
   ]
  },
  {
   "cell_type": "code",
   "execution_count": null,
   "id": "c09484a1-37f0-46ca-9f90-2e30fe53a965",
   "metadata": {},
   "outputs": [],
   "source": []
  },
  {
   "cell_type": "code",
   "execution_count": null,
   "id": "86d9bafe-0619-42df-90e1-41dd7ad0db57",
   "metadata": {},
   "outputs": [],
   "source": [
    "combined_data['years_founded_to_last_funding'] = (combined_data['last_funding_at'].dt.year - combined_data['founded_at'].dt.year)"
   ]
  },
  {
   "cell_type": "code",
   "execution_count": null,
   "id": "b87e3e69-8c55-4206-bb43-06c1ec1ca762",
   "metadata": {},
   "outputs": [],
   "source": [
    "combined_data['days_first_to_last_funding'] = (combined_data['last_funding_at'] - combined_data['first_funding_at']).dt.days"
   ]
  },
  {
   "cell_type": "code",
   "execution_count": null,
   "id": "04642c2e-9776-4a02-8de6-8538c504de53",
   "metadata": {},
   "outputs": [],
   "source": [
    "combined_data['days_last_funding_to_extract_date'] = (combined_data['extract_date'] - combined_data['last_funding_at']).dt.days"
   ]
  },
  {
   "cell_type": "code",
   "execution_count": null,
   "id": "c65dc68a-8296-4719-887b-423d6023dfd1",
   "metadata": {},
   "outputs": [],
   "source": [
    "combined_data.info()"
   ]
  },
  {
   "cell_type": "markdown",
   "id": "d471ab9a-240e-4196-bac4-17bdd527f74f",
   "metadata": {},
   "source": [
    "# changed category_cluster to be continent in fixing of funding"
   ]
  },
  {
   "cell_type": "markdown",
   "id": "8db25e64-756c-4bdf-8fce-c6d3be9fb89e",
   "metadata": {},
   "source": [
    "# removed founded_year and added standardized category"
   ]
  },
  {
   "cell_type": "code",
   "execution_count": null,
   "id": "b50b8694-f7bb-4534-8aed-827df28cf61e",
   "metadata": {},
   "outputs": [],
   "source": [
    "combined_data['avg_funding_per_name_per_round'] = combined_data['funding_total_usd']/combined_data['funding_rounds']"
   ]
  },
  {
   "cell_type": "code",
   "execution_count": null,
   "id": "b5240a3b-ee88-414e-8379-500bc338f673",
   "metadata": {},
   "outputs": [],
   "source": [
    "median_funding = combined_data.groupby(['standardized_category', 'continent'])['avg_funding_per_name_per_round'].median().reset_index()"
   ]
  },
  {
   "cell_type": "code",
   "execution_count": null,
   "id": "09b778dc-8d69-4d8a-b56f-6ff88b6c3290",
   "metadata": {},
   "outputs": [],
   "source": [
    "combined_data = pd.merge(combined_data, median_funding, on=['continent', 'standardized_category' ], suffixes=('', '_median'))"
   ]
  },
  {
   "cell_type": "code",
   "execution_count": null,
   "id": "f304b28a-4d5d-4cab-ad76-6a29f051a692",
   "metadata": {},
   "outputs": [],
   "source": [
    "combined_data['funding_total_usd'].fillna(combined_data['avg_funding_per_name_per_round_median'], inplace=True)"
   ]
  },
  {
   "cell_type": "code",
   "execution_count": null,
   "id": "3ba9f3b3-4ee8-413c-a4e5-935b9e0f3692",
   "metadata": {},
   "outputs": [],
   "source": [
    "combined_data.drop(columns=['avg_funding_per_name_per_round_median'], inplace=True)"
   ]
  },
  {
   "cell_type": "markdown",
   "id": "fab3dc08-e074-47c1-b871-07cd146a37e9",
   "metadata": {},
   "source": [
    "ещё остались пропуски...."
   ]
  },
  {
   "cell_type": "code",
   "execution_count": null,
   "id": "bcc1f679-8f5c-404e-a19a-b7f6e310e8f1",
   "metadata": {},
   "outputs": [],
   "source": [
    "median_funding_year = combined_data.groupby(['founded_year'])['avg_funding_per_name_per_round'].median().reset_index()"
   ]
  },
  {
   "cell_type": "code",
   "execution_count": null,
   "id": "02c414d1-29ae-4487-9967-c06423a7036c",
   "metadata": {},
   "outputs": [],
   "source": [
    "combined_data = pd.merge(combined_data, median_funding_year, on=['founded_year'], suffixes=('', '_median_year'))"
   ]
  },
  {
   "cell_type": "code",
   "execution_count": null,
   "id": "34a9ece2-060d-4611-9c5a-3d1defbe6433",
   "metadata": {},
   "outputs": [],
   "source": [
    "combined_data['funding_total_usd'].fillna(combined_data['avg_funding_per_name_per_round_median_year'], inplace=True)"
   ]
  },
  {
   "cell_type": "code",
   "execution_count": null,
   "id": "6dabaf6d-3c15-43d0-a718-1dc346b030cd",
   "metadata": {},
   "outputs": [],
   "source": [
    "combined_data.drop(columns=['avg_funding_per_name_per_round_median_year'], inplace=True)"
   ]
  },
  {
   "cell_type": "code",
   "execution_count": null,
   "id": "ffafeb7f-a749-42f0-a439-4f2869e44074",
   "metadata": {},
   "outputs": [],
   "source": [
    "combined_data['avg_funding_per_name_per_round'] = combined_data['funding_total_usd']/combined_data['funding_rounds']"
   ]
  },
  {
   "cell_type": "code",
   "execution_count": null,
   "id": "baba71f6-c5ca-41dd-ab15-6c62824927de",
   "metadata": {},
   "outputs": [],
   "source": [
    "combined_data.info()"
   ]
  },
  {
   "cell_type": "markdown",
   "id": "f79899a7-994f-4c4c-96a4-574e3065c178",
   "metadata": {},
   "source": [
    "### funding_total_usd ранки"
   ]
  },
  {
   "cell_type": "code",
   "execution_count": null,
   "id": "9d4de146-4a9f-4406-9d31-a3418419a4a1",
   "metadata": {},
   "outputs": [],
   "source": [
    "\n",
    "combined_data['funding_rank_per_year'] = combined_data.groupby(['continent', 'category_cluster', 'founded_year'])['funding_total_usd'].transform(\n",
    "    lambda x: x.rank(pct=True)\n",
    ")\n",
    "\n",
    "\n",
    "combined_data['funding_percentile_category_per_year'] = pd.cut(\n",
    "    combined_data['funding_rank_per_year'],\n",
    "    bins=[0, 0.33, 0.66, 1], \n",
    "    labels=['Low', 'Medium', 'High']  \n",
    ")\n",
    "\n",
    "\n",
    "print(combined_data[['continent', 'funding_total_usd', 'category_cluster', 'founded_year', 'funding_percentile_category_per_year']].head())\n"
   ]
  },
  {
   "cell_type": "code",
   "execution_count": null,
   "id": "2e8998a8-944f-47fc-9422-03e4935c6c7e",
   "metadata": {},
   "outputs": [],
   "source": [
    "train_data_v2 = combined_data[combined_data['source'] == 'train_data']\n",
    "test_data_v2 = combined_data[combined_data['source'] == 'test_data']"
   ]
  },
  {
   "cell_type": "code",
   "execution_count": null,
   "id": "4b7b839e-77a0-4b8e-bb10-cdb0310075f6",
   "metadata": {},
   "outputs": [],
   "source": [
    "#test_data_v2.drop(columns=['category_list', 'closed_at', 'status', 'source', 'name'], inplace=True)"
   ]
  },
  {
   "cell_type": "markdown",
   "id": "f7ef5c5b-61e0-4b1e-9ec6-91d93feeecc2",
   "metadata": {},
   "source": [
    "# 4. Корреляционный анализ цифровых признаков"
   ]
  },
  {
   "cell_type": "code",
   "execution_count": null,
   "id": "177ee711-59db-40d5-bf2c-582538146abb",
   "metadata": {},
   "outputs": [],
   "source": [
    "#train_data_v2.drop(columns=['closed_at','source', 'category_list', 'name', ], inplace=True)"
   ]
  },
  {
   "cell_type": "code",
   "execution_count": null,
   "id": "847afc8e-4116-44cf-8b98-cdeee733708e",
   "metadata": {},
   "outputs": [],
   "source": [
    "numeric_columns = train_data_v2.select_dtypes(include=['float64', 'int64', 'int32'])\n",
    "corr_matrix = numeric_columns.corr(method='pearson')\n",
    "plt.figure(figsize=(12, 8))\n",
    "sns.heatmap(corr_matrix, annot=True, cmap='coolwarm', fmt='.2f', linewidths=0.5)\n",
    "plt.title('Correlation Matrix of Numerical Variables')\n",
    "plt.show()"
   ]
  },
  {
   "cell_type": "markdown",
   "id": "4201c1b2-90ce-49d8-be9b-9e101b0a2ae5",
   "metadata": {},
   "source": [
    "## Вывод"
   ]
  },
  {
   "cell_type": "markdown",
   "id": "30d34404-27a4-4aca-8bd9-eb7e4f987233",
   "metadata": {},
   "source": [
    "funding_total_usd & avg_funding_per_name_per_round - это ожидаемо учитывая что большинство компаний имеет только один раунд\n",
    "\n",
    "funding_rounds & funding_rounds_capped - это ожидаемо и при выборе фаторов для можели останеться только один (впринципе на этот фактор можно смотреть как и на категориальный)\n",
    "\n",
    "lifetime & founded_year - чем старше компания тем дольше она живёт. обьяснимо. вприцнипе lifetime это синтетический признак из целевого и при моделировании использован не будет\n"
   ]
  },
  {
   "cell_type": "markdown",
   "id": "7d57a087-6099-467d-bc92-21d1807a0c20",
   "metadata": {},
   "source": [
    "# 5. Анализ категориальных признаков"
   ]
  },
  {
   "cell_type": "code",
   "execution_count": null,
   "id": "1116049b-cfbc-41d9-8cf6-f75e42c7b7df",
   "metadata": {},
   "outputs": [],
   "source": [
    "train_data_v2.info()"
   ]
  },
  {
   "cell_type": "code",
   "execution_count": null,
   "id": "3b3f37e9-115f-4fc6-9f5c-cef6692ac20a",
   "metadata": {},
   "outputs": [],
   "source": []
  },
  {
   "cell_type": "code",
   "execution_count": null,
   "id": "b3e29006-8f31-4612-a39b-0c3304442603",
   "metadata": {},
   "outputs": [],
   "source": [
    "columns_to_plot = ['country_code', 'category_cluster', 'funding_rounds_capped', 'founded_year', 'funding_percentile_category_per_year', 'founded_month', 'years_founded_to_last_funding']\n",
    "\n",
    "for col in columns_to_plot:\n",
    "    closure_rate = train_data_v2.groupby(col)['status'].apply(lambda x: (x == 'closed').mean()).reset_index()\n",
    "    closure_rate.columns = [col, 'closure_rate']\n",
    "    count_data = train_data_v2[col].value_counts().reset_index()\n",
    "    count_data.columns = [col, 'count']\n",
    "    fig, ax1 = plt.subplots(figsize=(10, 6))\n",
    "    \n",
    "    sns.barplot(data=count_data, x=col, y='count', ax=ax1, color='lightblue')\n",
    "    ax1.set_xlabel(col)\n",
    "    ax1.set_ylabel('Count')\n",
    "    ax1.set_title(f'Count and Closure Rate by {col}')\n",
    "    \n",
    "    ax2 = ax1.twinx()\n",
    "    \n",
    "    sns.lineplot(data=closure_rate, x=col, y='closure_rate', marker='o', color='red', ax=ax2)\n",
    "    ax2.set_ylabel('Closure Rate')\n",
    "\n",
    "    plt.xticks(rotation=45)\n",
    "    \n",
    "    plt.show()"
   ]
  },
  {
   "cell_type": "code",
   "execution_count": null,
   "id": "3e821198-915e-4cb4-88ce-39799ecd33d9",
   "metadata": {},
   "outputs": [],
   "source": [
    "closure_rate_grouped = train_data_v2.groupby('founded_year').agg(\n",
    "    count=('status', 'size'),\n",
    "    closure_rate=('status', lambda x: (x == 'closed').mean())\n",
    ").reset_index()\n",
    "closure_rate_grouped"
   ]
  },
  {
   "cell_type": "markdown",
   "id": "1c750cce-977b-4461-b8ae-a043a5156645",
   "metadata": {},
   "source": [
    "# 6. Отбор финального набора обучающих признаков"
   ]
  },
  {
   "cell_type": "code",
   "execution_count": null,
   "id": "e75b7fcc-03cf-47dd-8c80-7faf65d3948c",
   "metadata": {},
   "outputs": [],
   "source": [
    "train_data_v3 = train_data_v2.drop(['name', 'category_list', 'founded_at', 'first_funding_at', 'last_funding_at', \n",
    "                                    'closed_at', 'extract_date', 'source', 'category_vector', 'funding_rounds', \n",
    "                                    'funding_rank_per_year',  'state_code', 'region', 'city',\n",
    "                                    'days_last_funding_to_extract_date','years_founded_to_last_funding', 'avg_funding_per_name_per_round',\n",
    "                                   'first_category', 'founded_month', 'founded_year', 'country_code'], axis=1) "
   ]
  },
  {
   "cell_type": "code",
   "execution_count": null,
   "id": "1a493151-8c4b-4ca0-bc5e-1fd2f296d3bb",
   "metadata": {},
   "outputs": [],
   "source": [
    "test_data_v3 = test_data_v2.drop(['category_list', 'status', 'founded_at', 'first_funding_at', 'last_funding_at', \n",
    "                                    'closed_at', 'extract_date', 'source', 'category_vector', 'funding_rounds', \n",
    "                                    'funding_rank_per_year', 'state_code', 'region', 'city', \n",
    "                                  'days_last_funding_to_extract_date','years_founded_to_last_funding', 'avg_funding_per_name_per_round',\n",
    "                                 'first_category', 'founded_month', 'founded_year','country_code'], axis=1) "
   ]
  },
  {
   "cell_type": "code",
   "execution_count": null,
   "id": "90893932-fdfc-4853-8105-aeda519a2fb2",
   "metadata": {},
   "outputs": [],
   "source": [
    "train_data_v3.info()"
   ]
  },
  {
   "cell_type": "code",
   "execution_count": null,
   "id": "feaf1a45-efe9-4a2c-84a4-450672133432",
   "metadata": {},
   "outputs": [],
   "source": [
    "train_data_v3['funding_percentile_category_per_year'].unique()"
   ]
  },
  {
   "cell_type": "code",
   "execution_count": null,
   "id": "35f74de4-99d2-46d5-b527-62a0406a15c5",
   "metadata": {},
   "outputs": [],
   "source": [
    "#dsfgsg"
   ]
  },
  {
   "cell_type": "markdown",
   "id": "7e3213aa-cb30-47f1-b544-5c12fdbc0e71",
   "metadata": {},
   "source": [
    "# 7. Выбор и обучение моделей"
   ]
  },
  {
   "cell_type": "markdown",
   "id": "d10008f3-3a5d-4950-9f99-109967dea9dc",
   "metadata": {},
   "source": [
    "### Пайплайн"
   ]
  },
  {
   "cell_type": "code",
   "execution_count": null,
   "id": "484a0009-6c78-4145-bca3-0ca25ce01a9f",
   "metadata": {},
   "outputs": [],
   "source": [
    "#ohe_columns = ['country_code', 'state_code', 'region', 'city', 'category_cluster', 'founded_year', 'funding_rounds_capped']\n",
    "ohe_columns = [ 'funding_rounds_capped', 'standardized_category', 'continent', 'category_cluster'] \n",
    "ord_columns = ['funding_percentile_category_per_year']\n",
    "num_columns = ['funding_total_usd', 'lifetime', 'days_first_to_last_funding']\n",
    "\n",
    "\n",
    "ohe_pipe = Pipeline([\n",
    "    ('simpleImputer_ohe', SimpleImputer(missing_values=np.nan, strategy='most_frequent')),\n",
    "    ('ohe', OneHotEncoder(handle_unknown='ignore', sparse_output=False, drop='first'))\n",
    "])\n",
    "\n",
    "ord_pipe = Pipeline([\n",
    "    ('simpleImputer_before_ord', SimpleImputer(missing_values=np.nan, strategy='most_frequent')),\n",
    "    ('ord', OrdinalEncoder(categories=[['Low', 'Medium', 'High']], handle_unknown='use_encoded_value', unknown_value=-1)),\n",
    "    ('simpleImputer_after_ord', SimpleImputer(missing_values=np.nan, strategy='most_frequent'))\n",
    "])\n",
    "\n",
    "num_pipe = Pipeline([\n",
    "    ('simpleImputer_num', SimpleImputer(missing_values=np.nan, strategy='mean')),\n",
    "    ('scaler', StandardScaler())\n",
    "])\n",
    "\n",
    "poly_pipe = Pipeline([\n",
    "    ('simpleImputer_num', SimpleImputer(missing_values=np.nan, strategy='mean')),\n",
    "    ('poly', PolynomialFeatures(degree=2)),\n",
    "    ('scaler', StandardScaler())\n",
    "])"
   ]
  },
  {
   "cell_type": "code",
   "execution_count": null,
   "id": "9b54b9fe-1a9d-4953-8938-4a04685264ff",
   "metadata": {},
   "outputs": [],
   "source": [
    "data_preprocessor = ColumnTransformer([\n",
    "    ('ohe', ohe_pipe, ohe_columns),\n",
    "    ('ord', ord_pipe, ord_columns),\n",
    "    ('num', num_pipe, num_columns),\n",
    "    ('poly', poly_pipe, num_columns)\n",
    "], remainder='passthrough')\n",
    "\n",
    "pipe_final = Pipeline([\n",
    "    ('preprocessor', data_preprocessor),\n",
    "    ('model', DecisionTreeClassifier(random_state=RANDOM_STATE))\n",
    "])"
   ]
  },
  {
   "cell_type": "markdown",
   "id": "5b86d0a5-588c-4236-9f4b-e6922907387e",
   "metadata": {},
   "source": [
    "### Создание выборок"
   ]
  },
  {
   "cell_type": "code",
   "execution_count": null,
   "id": "8d05222b-ea3e-4815-a0dd-8d6cfcd27b5b",
   "metadata": {},
   "outputs": [],
   "source": [
    "X = train_data_v3.drop(['status'], axis=1)\n",
    "y = train_data_v3['status']\n",
    "X_train, X_test, y_train, y_test = train_test_split(X, y, test_size=0.2, random_state=RANDOM_STATE)"
   ]
  },
  {
   "cell_type": "code",
   "execution_count": null,
   "id": "429a2bbc-80d0-4114-9e36-cb1a390fa822",
   "metadata": {},
   "outputs": [],
   "source": [
    "print(\"Training feature set shape:\", X_train.shape)\n",
    "print(\"Testing feature set shape:\", X_test.shape)\n",
    "print(\"Training labels shape:\", y_train.shape)\n",
    "print(\"Testing labels shape:\", y_test.shape)"
   ]
  },
  {
   "cell_type": "code",
   "execution_count": null,
   "id": "9389ebf9-037c-4da9-80da-de25bde717b6",
   "metadata": {},
   "outputs": [],
   "source": [
    "#X_train.to_csv(r'C:\\Users\\levle\\OneDrive\\Documents\\Yandex_Practicum_main\\Master1\\M1_DS - Startups (STD)\\X_train.csv', index=False)\n",
    "#y_train.to_csv(r'C:\\Users\\levle\\OneDrive\\Documents\\Yandex_Practicum_main\\Master1\\M1_DS - Startups (STD)\\y_train.csv', index=False)"
   ]
  },
  {
   "cell_type": "markdown",
   "id": "208b5847-01bb-4ec4-821d-d40029b94eed",
   "metadata": {},
   "source": [
    "### Сетка параметров для RandomizedSearchCV"
   ]
  },
  {
   "cell_type": "code",
   "execution_count": null,
   "id": "291874f8-2222-4724-b4cc-c7de83cb609d",
   "metadata": {},
   "outputs": [],
   "source": [
    "param_grid = [\n",
    "    {\n",
    "        'model': [DecisionTreeClassifier(random_state=RANDOM_STATE, class_weight='balanced')],\n",
    "        'model__max_depth': range(2, 10),\n",
    "        'model__max_features': range(2, 10),\n",
    "        'preprocessor__num__scaler': [StandardScaler(), MinMaxScaler(), 'passthrough']\n",
    "    },\n",
    "    {\n",
    "        'model': [LogisticRegression(random_state=RANDOM_STATE, class_weight='balanced')],\n",
    "        'model__penalty': ['l2'],\n",
    "        'model__C': [0.01, 0.1, 1, 10],  # Regularization parameter\n",
    "        'preprocessor__num__scaler': [StandardScaler(), MinMaxScaler(), 'passthrough']\n",
    "    },\n",
    "#    {\n",
    "#    'model': [KNeighborsClassifier()],\n",
    "#    'model__n_neighbors': [3, 5, 7, 9],\n",
    "#    'model__weights': ['uniform', 'distance'],  # Uniform or weighted distance\n",
    "#    'model__p': [1, 2],  # Manhattan (p=1) or Euclidean (p=2) distance\n",
    "#    'preprocessor__num__scaler': [StandardScaler(), MinMaxScaler(), 'passthrough']\n",
    "#    },\n",
    "    {\n",
    "    'model': [LGBMClassifier(random_state=RANDOM_STATE)],\n",
    "    'model__n_estimators': [100, 200, 300],\n",
    "    'model__max_depth': range(3, 10),\n",
    "    'model__learning_rate': [0.01, 0.1, 0.2],\n",
    "    'model__subsample': [0.7, 0.8, 1.0],\n",
    "    'preprocessor__num__scaler': [StandardScaler(), MinMaxScaler(), 'passthrough']\n",
    "    }, \n",
    "#    {\n",
    "#    'model': [SVC(random_state=RANDOM_STATE, class_weight='balanced')],\n",
    "#    'model__C': [0.1, 1, 10],  # Regularization parameter\n",
    "#    'model__kernel': ['linear', 'poly', 'rbf'],  # Kernel type\n",
    "#    'model__gamma': ['scale', 'auto'],  # Kernel coefficient\n",
    "#    'preprocessor__num__scaler': [StandardScaler(), MinMaxScaler(), 'passthrough']\n",
    "#    },\n",
    "    {\n",
    "    'model': [CatBoostClassifier(random_state=RANDOM_STATE, silent=True)],\n",
    "    'model__depth': range(3, 10),\n",
    "    'model__learning_rate': [0.01, 0.1, 0.2],\n",
    "    'model__iterations': [100, 200, 300],\n",
    "    'preprocessor__num__scaler': [StandardScaler(), MinMaxScaler(), 'passthrough']\n",
    "    }\n",
    "#    {\n",
    "#    'model': [RandomForestClassifier(random_state=RANDOM_STATE, class_weight='balanced')],\n",
    "#    'model__n_estimators': [100, 200, 300],\n",
    "#    'model__max_depth': range(3, 10),\n",
    "#    'model__max_features': ['auto', 'sqrt', 'log2'],\n",
    "#    'preprocessor__num__scaler': [StandardScaler(), MinMaxScaler(), 'passthrough']\n",
    "#    },\n",
    "#    {\n",
    "#    'model': [GradientBoostingClassifier(random_state=RANDOM_STATE)],\n",
    "#    'model__n_estimators': [100, 200, 300],\n",
    "#    'model__learning_rate': [0.01, 0.1, 0.2],\n",
    "#    'model__max_depth': range(3, 10),\n",
    "#    'model__subsample': [0.7, 0.8, 1.0],\n",
    "#    'preprocessor__num__scaler': [StandardScaler(), MinMaxScaler(), 'passthrough']\n",
    "#    },\n",
    "#    {\n",
    "#    'model': [ExtraTreesClassifier(random_state=RANDOM_STATE, class_weight='balanced')],\n",
    "#    'model__n_estimators': [100, 200, 300],\n",
    "#    'model__max_depth': range(3, 10),\n",
    "#    'model__max_features': ['auto', 'sqrt', 'log2'],\n",
    "#    'preprocessor__num__scaler': [StandardScaler(), MinMaxScaler(), 'passthrough']\n",
    "#    }\n",
    "\n",
    "\n",
    "\n",
    "]"
   ]
  },
  {
   "cell_type": "markdown",
   "id": "5a0bf0bd-38fb-4078-b7cf-1983b17d0215",
   "metadata": {},
   "source": [
    "### Настройка RandomizedSearchCV"
   ]
  },
  {
   "cell_type": "code",
   "execution_count": null,
   "id": "7692e51d-e116-4c42-aeba-d476849e6ee8",
   "metadata": {},
   "outputs": [],
   "source": [
    "f1_scorer = make_scorer(f1_score, average='weighted')"
   ]
  },
  {
   "cell_type": "code",
   "execution_count": null,
   "id": "56e1e038-2206-4e58-b4a4-79621fee7e94",
   "metadata": {
    "scrolled": true
   },
   "outputs": [],
   "source": [
    "randomized_search = RandomizedSearchCV(pipe_final, param_grid, cv=5, scoring=f1_scorer, random_state=RANDOM_STATE, n_jobs=-1)\n",
    "randomized_search.fit(X_train, y_train)"
   ]
  },
  {
   "cell_type": "code",
   "execution_count": null,
   "id": "c65700af-aa07-4740-b3e3-30f97f30adb6",
   "metadata": {},
   "outputs": [],
   "source": [
    "best_params = randomized_search.best_params_\n",
    "best_score = randomized_search.best_score_\n",
    "best_model = randomized_search.best_estimator_"
   ]
  },
  {
   "cell_type": "code",
   "execution_count": null,
   "id": "c4b42d8a-cb58-4f9a-902a-73db943f972e",
   "metadata": {},
   "outputs": [],
   "source": [
    "best_params"
   ]
  },
  {
   "cell_type": "code",
   "execution_count": null,
   "id": "6a44292a-a51f-481a-bd9f-db986f0c8d74",
   "metadata": {},
   "outputs": [],
   "source": [
    "best_score"
   ]
  },
  {
   "cell_type": "code",
   "execution_count": null,
   "id": "20c4f2a6-d33e-4616-8ed2-f732598cbd42",
   "metadata": {},
   "outputs": [],
   "source": []
  },
  {
   "cell_type": "markdown",
   "id": "cad96650-d4d5-48cf-b156-3f8671a4e26e",
   "metadata": {},
   "source": [
    "# 8. Итоговая оценка качества предсказания лучшей модели"
   ]
  },
  {
   "cell_type": "markdown",
   "id": "f88d7ec1-3969-4bc9-b82d-a8d98c42a20e",
   "metadata": {},
   "source": [
    "Лучшая модель имеет эти параметры:\n",
    "\n",
    "{'preprocessor__num__scaler': StandardScaler(),\n",
    " 'model__learning_rate': 0.2,\n",
    " 'model__iterations': 200,\n",
    " 'model__depth': 8,\n",
    " 'model': <catboost.core.CatBoostClassifier at 0x2391b2c8a90>}\n",
    "\n",
    " и Ф1 = 0.863"
   ]
  },
  {
   "cell_type": "markdown",
   "id": "cf4f15d8-2777-4e3a-98b9-dc752a1cc7cb",
   "metadata": {},
   "source": [
    "# 9. Анализ важности ее признаков"
   ]
  },
  {
   "cell_type": "code",
   "execution_count": null,
   "id": "0a02bbcb-c49b-4755-acb2-c89184f7eac0",
   "metadata": {},
   "outputs": [],
   "source": [
    "feature_importances = best_model.named_steps['model'].get_feature_importance()\n",
    "preprocessor = best_model.named_steps['preprocessor']\n",
    "transformed_feature_names = preprocessor.get_feature_names_out()\n",
    "importance_df = pd.DataFrame({'Feature': transformed_feature_names, 'Importance': feature_importances})\n",
    "importance_df = importance_df.sort_values(by='Importance', ascending=False)\n",
    "importance_df.head(20)\n"
   ]
  },
  {
   "cell_type": "markdown",
   "id": "fd1c133d-c8fe-45bf-b918-6d34e099f0ba",
   "metadata": {},
   "source": [
    "## Самыми важными оказались: \n",
    "\n",
    "признаки количества денег, сластер категорий 3 и года 2014 2010 2013"
   ]
  },
  {
   "cell_type": "markdown",
   "id": "63781a79-ec77-4eaf-8895-8f82505672b8",
   "metadata": {},
   "source": [
    "# 10. Вывод"
   ]
  },
  {
   "cell_type": "code",
   "execution_count": null,
   "id": "a37340b9-d9d9-40e0-b9b5-7b0306aaff48",
   "metadata": {},
   "outputs": [],
   "source": [
    "test_data_v3.info()"
   ]
  },
  {
   "cell_type": "code",
   "execution_count": null,
   "id": "fd571c87-9632-4fa6-8b59-9a9532516a3d",
   "metadata": {},
   "outputs": [],
   "source": [
    "test_data_v3_no_name = test_data_v3.drop(columns=['name'])"
   ]
  },
  {
   "cell_type": "code",
   "execution_count": null,
   "id": "373c0553-53dd-4e9f-8d65-58e2fe8e2e5b",
   "metadata": {},
   "outputs": [],
   "source": [
    "predictions = best_model.predict(test_data_v3_no_name)"
   ]
  },
  {
   "cell_type": "code",
   "execution_count": null,
   "id": "5fb8d2bb-2c25-4863-8e2d-dbbc34b0a216",
   "metadata": {},
   "outputs": [],
   "source": [
    "predictions"
   ]
  },
  {
   "cell_type": "code",
   "execution_count": null,
   "id": "6b3a2f84-f44e-4b77-a0f8-7146c1d72299",
   "metadata": {},
   "outputs": [],
   "source": [
    "predictions_df = pd.DataFrame(predictions, columns=['status'])"
   ]
  },
  {
   "cell_type": "code",
   "execution_count": null,
   "id": "17d0b142-688f-4a59-a24f-901f9e7fc5b7",
   "metadata": {},
   "outputs": [],
   "source": [
    "predictions_df.head()"
   ]
  },
  {
   "cell_type": "code",
   "execution_count": null,
   "id": "55eebcf7-cc06-41bb-a7c5-a891722c51f7",
   "metadata": {},
   "outputs": [],
   "source": [
    "test_data_v3.reset_index(drop=True, inplace=True)"
   ]
  },
  {
   "cell_type": "code",
   "execution_count": null,
   "id": "6e03ede2-d413-4514-9e9e-3b32e081ce28",
   "metadata": {},
   "outputs": [],
   "source": [
    "test_data_v3_pred = pd.merge(test_data_v3, predictions_df, left_index=True, right_index=True)"
   ]
  },
  {
   "cell_type": "code",
   "execution_count": null,
   "id": "3f08a01f-e609-46c3-ac6a-d9a90d92f2ef",
   "metadata": {},
   "outputs": [],
   "source": [
    "test_data_v3_pred['status'].value_counts()"
   ]
  },
  {
   "cell_type": "code",
   "execution_count": null,
   "id": "5efaf75f-5738-47db-866f-6769a1110ba6",
   "metadata": {},
   "outputs": [],
   "source": [
    "test_data_v3_pred[test_data_v3_pred['status'] == 'closed']"
   ]
  },
  {
   "cell_type": "code",
   "execution_count": null,
   "id": "747d4632-7367-409a-bbef-7465e6f44e75",
   "metadata": {},
   "outputs": [],
   "source": [
    "submit_data = test_data_v3_pred[['name', 'status']]"
   ]
  },
  {
   "cell_type": "code",
   "execution_count": null,
   "id": "3dcdce62-08e6-459c-9c58-99bc8db32a45",
   "metadata": {},
   "outputs": [],
   "source": [
    "submit_data.to_csv(r'C:\\Users\\levle\\OneDrive\\Documents\\Yandex_Practicum_main\\Master1\\M1_DS - Startups (STD)\\submit_data_Lev_Lebedev.csv', index=False)"
   ]
  },
  {
   "cell_type": "code",
   "execution_count": null,
   "id": "fb885fe0-405d-43e1-861b-c1c9cf0b7490",
   "metadata": {},
   "outputs": [],
   "source": []
  }
 ],
 "metadata": {
  "kernelspec": {
   "display_name": "Python 3 (ipykernel)",
   "language": "python",
   "name": "python3"
  },
  "language_info": {
   "codemirror_mode": {
    "name": "ipython",
    "version": 3
   },
   "file_extension": ".py",
   "mimetype": "text/x-python",
   "name": "python",
   "nbconvert_exporter": "python",
   "pygments_lexer": "ipython3",
   "version": "3.11.5"
  }
 },
 "nbformat": 4,
 "nbformat_minor": 5
}
